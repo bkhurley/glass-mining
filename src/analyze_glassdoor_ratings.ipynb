{
 "cells": [
  {
   "cell_type": "code",
   "execution_count": 1,
   "metadata": {},
   "outputs": [],
   "source": [
    "import pandas as pd\n",
    "import numpy as np\n",
    "import string\n",
    "import re\n",
    "import itertools\n",
    "from textblob import TextBlob\n",
    "from sklearn.feature_extraction.text import CountVectorizer\n",
    "from sklearn.feature_extraction.text import TfidfVectorizer\n",
    "from sklearn.base import TransformerMixin\n",
    "from sklearn.pipeline import Pipeline\n",
    "import matplotlib\n",
    "import matplotlib.pyplot as plt\n",
    "import seaborn as sns\n",
    "%matplotlib inline\n",
    "import spacy\n",
    "from spacy.lemmatizer import Lemmatizer\n",
    "from spacy.lang.en.stop_words import STOP_WORDS\n",
    "from spacy.lang.en import English\n",
    "import en_core_web_sm\n",
    "from sklearn.metrics import accuracy_score,classification_report,confusion_matrix\n",
    "from sklearn.feature_extraction import text\n",
    "from sklearn.decomposition import TruncatedSVD\n",
    "from sklearn.decomposition import LatentDirichletAllocation\n",
    "from sklearn.manifold import TSNE\n",
    "import nltk\n",
    "from nltk.sentiment.vader import SentimentIntensityAnalyzer"
   ]
  },
  {
   "cell_type": "markdown",
   "metadata": {},
   "source": [
    "## Functions"
   ]
  },
  {
   "cell_type": "markdown",
   "metadata": {},
   "source": [
    "##### Preprocessing"
   ]
  },
  {
   "cell_type": "code",
   "execution_count": 2,
   "metadata": {},
   "outputs": [],
   "source": [
    "def preprocess(text):\n",
    "    text = text.str.lower()\n",
    "    text = text.str.replace(\"(<br/>)\", \"\")\n",
    "    text = text.str.replace('(<a).*(>).*(</a>)', '')\n",
    "    text = text.str.replace('(&amp)', '')\n",
    "    text = text.str.replace('(&gt)', '')\n",
    "    text = text.str.replace('(&lt)', '')\n",
    "    text = text.str.replace('(\\xa0)', ' ')\n",
    "    return text"
   ]
  },
  {
   "cell_type": "markdown",
   "metadata": {},
   "source": [
    "##### Some functions for frequency plotting"
   ]
  },
  {
   "cell_type": "code",
   "execution_count": 3,
   "metadata": {},
   "outputs": [],
   "source": [
    "# count term frequencies and return in descending order\n",
    "def termCount(data, targetVar):\n",
    "    count = data.groupby([targetVar])[targetVar].agg(\n",
    "        ['count']).sort_values(by=['count'],ascending=False\n",
    "                              ).reset_index()\n",
    "    return count\n",
    "\n",
    "# plot top N terms\n",
    "def plotTopTerms(data, targetVar, ax=None, n=20, title=None):\n",
    "    if ax is None:\n",
    "        ax = plt.figure()\n",
    "    ax = sns.catplot(x=\"count\", y=targetVar, hue = None, color='#006EAD',\n",
    "                     kind=\"bar\", data=data[0:n])\n",
    "    ax.set(xlabel='count', ylabel='', title = title)"
   ]
  },
  {
   "cell_type": "markdown",
   "metadata": {},
   "source": [
    "##### Perprocess text"
   ]
  },
  {
   "cell_type": "code",
   "execution_count": 182,
   "metadata": {},
   "outputs": [],
   "source": [
    "def standardize_text(df, text_field):\n",
    "    df[text_field] = df[text_field].str.replace(r\"http\\S+\", \"\")\n",
    "    df[text_field] = df[text_field].str.replace(r\"http\", \"\")\n",
    "    df[text_field] = df[text_field].str.replace(r\"@\\S+\", \"\")\n",
    "    df[text_field] = df[text_field].str.replace(r\"[^A-Za-z0-9(),!?@\\'\\`\\\"\\_\\n]\", \" \")\n",
    "    df[text_field] = df[text_field].str.replace(r\"@\", \"at\")\n",
    "    df[text_field] = df[text_field].str.replace(r\"@\", \"at\")\n",
    "    df[text_field] = df[text_field].str.lower()\n",
    "    return df"
   ]
  },
  {
   "cell_type": "markdown",
   "metadata": {},
   "source": [
    "##### Flatten list of lists"
   ]
  },
  {
   "cell_type": "code",
   "execution_count": 20,
   "metadata": {},
   "outputs": [],
   "source": [
    "def flattenList(listIn):\n",
    "    listOut = [item for sublist in listIn for item in sublist]\n",
    "    return listOut"
   ]
  },
  {
   "cell_type": "markdown",
   "metadata": {},
   "source": [
    "##### Frequency plotting"
   ]
  },
  {
   "cell_type": "code",
   "execution_count": null,
   "metadata": {},
   "outputs": [],
   "source": [
    "# count term frequencies and return in descending order\n",
    "def termCount(data, targetVar):\n",
    "    count = data.groupby([targetVar])[targetVar].agg(\n",
    "        ['count']).sort_values(by=['count'],ascending=False\n",
    "                              ).reset_index()\n",
    "    return count\n",
    "\n",
    "# plot top N terms\n",
    "def plotTopTerms(data, targetVar, ax=None, n=20, title=None):\n",
    "    if ax is None:\n",
    "        ax = plt.figure()\n",
    "    ax = sns.catplot(x=\"count\", y=targetVar, hue = None, color='#006EAD',\n",
    "                     kind=\"bar\", data=data[0:n])\n",
    "    ax.set(xlabel='count', ylabel='', title = title)"
   ]
  },
  {
   "cell_type": "markdown",
   "metadata": {},
   "source": [
    "## Read in data"
   ]
  },
  {
   "cell_type": "code",
   "execution_count": 4,
   "metadata": {},
   "outputs": [],
   "source": [
    "gd_data = pd.read_csv('../data/glassdoortest1.csv',\n",
    "                     encoding = \"ISO-8859-1\")\n",
    "# remove first column w/ redundant indices\n",
    "gd_data = gd_data.iloc[:, 1:]"
   ]
  },
  {
   "cell_type": "code",
   "execution_count": 5,
   "metadata": {},
   "outputs": [
    {
     "data": {
      "text/html": [
       "<div>\n",
       "<style scoped>\n",
       "    .dataframe tbody tr th:only-of-type {\n",
       "        vertical-align: middle;\n",
       "    }\n",
       "\n",
       "    .dataframe tbody tr th {\n",
       "        vertical-align: top;\n",
       "    }\n",
       "\n",
       "    .dataframe thead th {\n",
       "        text-align: right;\n",
       "    }\n",
       "</style>\n",
       "<table border=\"1\" class=\"dataframe\">\n",
       "  <thead>\n",
       "    <tr style=\"text-align: right;\">\n",
       "      <th></th>\n",
       "      <th>date</th>\n",
       "      <th>title</th>\n",
       "      <th>pros</th>\n",
       "      <th>cons</th>\n",
       "    </tr>\n",
       "  </thead>\n",
       "  <tbody>\n",
       "    <tr>\n",
       "      <th>0</th>\n",
       "      <td>13-Apr-18</td>\n",
       "      <td>Good Company to Work For</td>\n",
       "      <td>Great Pay, Flexible Hours, Unlimited Vacation.</td>\n",
       "      <td>Health Care, 401K, nothing else really</td>\n",
       "    </tr>\n",
       "    <tr>\n",
       "      <th>1</th>\n",
       "      <td>16-Apr-18</td>\n",
       "      <td>First Impressions</td>\n",
       "      <td>Great staff and very helpful. Fair compensatio...</td>\n",
       "      <td>As a relatively new employee I have not experi...</td>\n",
       "    </tr>\n",
       "    <tr>\n",
       "      <th>2</th>\n",
       "      <td>12-Apr-18</td>\n",
       "      <td>Sr. Engineering Technologist</td>\n",
       "      <td>Great benefits, working condition and people!</td>\n",
       "      <td>Must make a 30 mile commute.</td>\n",
       "    </tr>\n",
       "    <tr>\n",
       "      <th>3</th>\n",
       "      <td>11-Apr-18</td>\n",
       "      <td>Environmental Specialist</td>\n",
       "      <td>Very supportive environment for learning new t...</td>\n",
       "      <td>Corporate is slow in taking decisions</td>\n",
       "    </tr>\n",
       "    <tr>\n",
       "      <th>4</th>\n",
       "      <td>12-Apr-18</td>\n",
       "      <td>Sales</td>\n",
       "      <td>Work Life Balance, Slightly above average pay,...</td>\n",
       "      <td>High health care cost, high employee cost of c...</td>\n",
       "    </tr>\n",
       "  </tbody>\n",
       "</table>\n",
       "</div>"
      ],
      "text/plain": [
       "        date                         title  \\\n",
       "0  13-Apr-18      Good Company to Work For   \n",
       "1  16-Apr-18             First Impressions   \n",
       "2  12-Apr-18  Sr. Engineering Technologist   \n",
       "3  11-Apr-18      Environmental Specialist   \n",
       "4  12-Apr-18                         Sales   \n",
       "\n",
       "                                                pros  \\\n",
       "0     Great Pay, Flexible Hours, Unlimited Vacation.   \n",
       "1  Great staff and very helpful. Fair compensatio...   \n",
       "2      Great benefits, working condition and people!   \n",
       "3  Very supportive environment for learning new t...   \n",
       "4  Work Life Balance, Slightly above average pay,...   \n",
       "\n",
       "                                                cons  \n",
       "0             Health Care, 401K, nothing else really  \n",
       "1  As a relatively new employee I have not experi...  \n",
       "2                       Must make a 30 mile commute.  \n",
       "3              Corporate is slow in taking decisions  \n",
       "4  High health care cost, high employee cost of c...  "
      ]
     },
     "execution_count": 5,
     "metadata": {},
     "output_type": "execute_result"
    }
   ],
   "source": [
    "gd_data.head()"
   ]
  },
  {
   "cell_type": "code",
   "execution_count": 6,
   "metadata": {},
   "outputs": [
    {
     "data": {
      "text/html": [
       "<div>\n",
       "<style scoped>\n",
       "    .dataframe tbody tr th:only-of-type {\n",
       "        vertical-align: middle;\n",
       "    }\n",
       "\n",
       "    .dataframe tbody tr th {\n",
       "        vertical-align: top;\n",
       "    }\n",
       "\n",
       "    .dataframe thead th {\n",
       "        text-align: right;\n",
       "    }\n",
       "</style>\n",
       "<table border=\"1\" class=\"dataframe\">\n",
       "  <thead>\n",
       "    <tr style=\"text-align: right;\">\n",
       "      <th></th>\n",
       "      <th>date</th>\n",
       "      <th>title</th>\n",
       "      <th>pros</th>\n",
       "      <th>cons</th>\n",
       "    </tr>\n",
       "  </thead>\n",
       "  <tbody>\n",
       "    <tr>\n",
       "      <th>count</th>\n",
       "      <td>2000</td>\n",
       "      <td>1995</td>\n",
       "      <td>2000</td>\n",
       "      <td>2000</td>\n",
       "    </tr>\n",
       "    <tr>\n",
       "      <th>unique</th>\n",
       "      <td>669</td>\n",
       "      <td>1234</td>\n",
       "      <td>1475</td>\n",
       "      <td>1484</td>\n",
       "    </tr>\n",
       "    <tr>\n",
       "      <th>top</th>\n",
       "      <td>31-Jan-18</td>\n",
       "      <td>Honeywell</td>\n",
       "      <td>#NAME?</td>\n",
       "      <td>#NAME?</td>\n",
       "    </tr>\n",
       "    <tr>\n",
       "      <th>freq</th>\n",
       "      <td>18</td>\n",
       "      <td>47</td>\n",
       "      <td>31</td>\n",
       "      <td>21</td>\n",
       "    </tr>\n",
       "  </tbody>\n",
       "</table>\n",
       "</div>"
      ],
      "text/plain": [
       "             date      title    pros    cons\n",
       "count        2000       1995    2000    2000\n",
       "unique        669       1234    1475    1484\n",
       "top     31-Jan-18  Honeywell  #NAME?  #NAME?\n",
       "freq           18         47      31      21"
      ]
     },
     "execution_count": 6,
     "metadata": {},
     "output_type": "execute_result"
    }
   ],
   "source": [
    "gd_data.describe()"
   ]
  },
  {
   "cell_type": "markdown",
   "metadata": {},
   "source": [
    "## Clean data"
   ]
  },
  {
   "cell_type": "markdown",
   "metadata": {},
   "source": [
    "Pros and cons wide to long"
   ]
  },
  {
   "cell_type": "code",
   "execution_count": 7,
   "metadata": {},
   "outputs": [
    {
     "data": {
      "text/html": [
       "<div>\n",
       "<style scoped>\n",
       "    .dataframe tbody tr th:only-of-type {\n",
       "        vertical-align: middle;\n",
       "    }\n",
       "\n",
       "    .dataframe tbody tr th {\n",
       "        vertical-align: top;\n",
       "    }\n",
       "\n",
       "    .dataframe thead th {\n",
       "        text-align: right;\n",
       "    }\n",
       "</style>\n",
       "<table border=\"1\" class=\"dataframe\">\n",
       "  <thead>\n",
       "    <tr style=\"text-align: right;\">\n",
       "      <th></th>\n",
       "      <th>date</th>\n",
       "      <th>title</th>\n",
       "      <th>pro_vs_con</th>\n",
       "      <th>review</th>\n",
       "    </tr>\n",
       "  </thead>\n",
       "  <tbody>\n",
       "    <tr>\n",
       "      <th>0</th>\n",
       "      <td>13-Apr-18</td>\n",
       "      <td>Good Company to Work For</td>\n",
       "      <td>pros</td>\n",
       "      <td>Great Pay, Flexible Hours, Unlimited Vacation.</td>\n",
       "    </tr>\n",
       "    <tr>\n",
       "      <th>1</th>\n",
       "      <td>16-Apr-18</td>\n",
       "      <td>First Impressions</td>\n",
       "      <td>pros</td>\n",
       "      <td>Great staff and very helpful. Fair compensatio...</td>\n",
       "    </tr>\n",
       "    <tr>\n",
       "      <th>2</th>\n",
       "      <td>12-Apr-18</td>\n",
       "      <td>Sr. Engineering Technologist</td>\n",
       "      <td>pros</td>\n",
       "      <td>Great benefits, working condition and people!</td>\n",
       "    </tr>\n",
       "    <tr>\n",
       "      <th>3</th>\n",
       "      <td>11-Apr-18</td>\n",
       "      <td>Environmental Specialist</td>\n",
       "      <td>pros</td>\n",
       "      <td>Very supportive environment for learning new t...</td>\n",
       "    </tr>\n",
       "    <tr>\n",
       "      <th>4</th>\n",
       "      <td>12-Apr-18</td>\n",
       "      <td>Sales</td>\n",
       "      <td>pros</td>\n",
       "      <td>Work Life Balance, Slightly above average pay,...</td>\n",
       "    </tr>\n",
       "  </tbody>\n",
       "</table>\n",
       "</div>"
      ],
      "text/plain": [
       "        date                         title pro_vs_con  \\\n",
       "0  13-Apr-18      Good Company to Work For       pros   \n",
       "1  16-Apr-18             First Impressions       pros   \n",
       "2  12-Apr-18  Sr. Engineering Technologist       pros   \n",
       "3  11-Apr-18      Environmental Specialist       pros   \n",
       "4  12-Apr-18                         Sales       pros   \n",
       "\n",
       "                                              review  \n",
       "0     Great Pay, Flexible Hours, Unlimited Vacation.  \n",
       "1  Great staff and very helpful. Fair compensatio...  \n",
       "2      Great benefits, working condition and people!  \n",
       "3  Very supportive environment for learning new t...  \n",
       "4  Work Life Balance, Slightly above average pay,...  "
      ]
     },
     "execution_count": 7,
     "metadata": {},
     "output_type": "execute_result"
    }
   ],
   "source": [
    "gd_data = gd_data.reset_index()\n",
    "gd_data = pd.melt(gd_data, id_vars=['date', 'title'], \n",
    "                  value_vars=['pros', 'cons'], \n",
    "                  var_name='pro_vs_con', value_name='review')\n",
    "gd_data.head()"
   ]
  },
  {
   "cell_type": "markdown",
   "metadata": {},
   "source": [
    "Explore length (# characters) of reviews"
   ]
  },
  {
   "cell_type": "code",
   "execution_count": 8,
   "metadata": {},
   "outputs": [
    {
     "data": {
      "text/html": [
       "<div>\n",
       "<style scoped>\n",
       "    .dataframe tbody tr th:only-of-type {\n",
       "        vertical-align: middle;\n",
       "    }\n",
       "\n",
       "    .dataframe tbody tr th {\n",
       "        vertical-align: top;\n",
       "    }\n",
       "\n",
       "    .dataframe thead th {\n",
       "        text-align: right;\n",
       "    }\n",
       "</style>\n",
       "<table border=\"1\" class=\"dataframe\">\n",
       "  <thead>\n",
       "    <tr style=\"text-align: right;\">\n",
       "      <th></th>\n",
       "      <th>date</th>\n",
       "      <th>title</th>\n",
       "      <th>pro_vs_con</th>\n",
       "      <th>review</th>\n",
       "      <th>length</th>\n",
       "    </tr>\n",
       "  </thead>\n",
       "  <tbody>\n",
       "    <tr>\n",
       "      <th>0</th>\n",
       "      <td>13-Apr-18</td>\n",
       "      <td>Good Company to Work For</td>\n",
       "      <td>pros</td>\n",
       "      <td>Great Pay, Flexible Hours, Unlimited Vacation.</td>\n",
       "      <td>46</td>\n",
       "    </tr>\n",
       "    <tr>\n",
       "      <th>1</th>\n",
       "      <td>16-Apr-18</td>\n",
       "      <td>First Impressions</td>\n",
       "      <td>pros</td>\n",
       "      <td>Great staff and very helpful. Fair compensatio...</td>\n",
       "      <td>56</td>\n",
       "    </tr>\n",
       "    <tr>\n",
       "      <th>2</th>\n",
       "      <td>12-Apr-18</td>\n",
       "      <td>Sr. Engineering Technologist</td>\n",
       "      <td>pros</td>\n",
       "      <td>Great benefits, working condition and people!</td>\n",
       "      <td>45</td>\n",
       "    </tr>\n",
       "    <tr>\n",
       "      <th>3</th>\n",
       "      <td>11-Apr-18</td>\n",
       "      <td>Environmental Specialist</td>\n",
       "      <td>pros</td>\n",
       "      <td>Very supportive environment for learning new t...</td>\n",
       "      <td>171</td>\n",
       "    </tr>\n",
       "    <tr>\n",
       "      <th>4</th>\n",
       "      <td>12-Apr-18</td>\n",
       "      <td>Sales</td>\n",
       "      <td>pros</td>\n",
       "      <td>Work Life Balance, Slightly above average pay,...</td>\n",
       "      <td>73</td>\n",
       "    </tr>\n",
       "  </tbody>\n",
       "</table>\n",
       "</div>"
      ],
      "text/plain": [
       "        date                         title pro_vs_con  \\\n",
       "0  13-Apr-18      Good Company to Work For       pros   \n",
       "1  16-Apr-18             First Impressions       pros   \n",
       "2  12-Apr-18  Sr. Engineering Technologist       pros   \n",
       "3  11-Apr-18      Environmental Specialist       pros   \n",
       "4  12-Apr-18                         Sales       pros   \n",
       "\n",
       "                                              review  length  \n",
       "0     Great Pay, Flexible Hours, Unlimited Vacation.      46  \n",
       "1  Great staff and very helpful. Fair compensatio...      56  \n",
       "2      Great benefits, working condition and people!      45  \n",
       "3  Very supportive environment for learning new t...     171  \n",
       "4  Work Life Balance, Slightly above average pay,...      73  "
      ]
     },
     "execution_count": 8,
     "metadata": {},
     "output_type": "execute_result"
    }
   ],
   "source": [
    "gd_data['length'] = gd_data['review'].apply(len)\n",
    "gd_data.head()"
   ]
  },
  {
   "cell_type": "code",
   "execution_count": 9,
   "metadata": {},
   "outputs": [
    {
     "data": {
      "text/plain": [
       "array([<matplotlib.axes._subplots.AxesSubplot object at 0x1a1e7b74d0>,\n",
       "       <matplotlib.axes._subplots.AxesSubplot object at 0x1a1ec1cc10>],\n",
       "      dtype=object)"
      ]
     },
     "execution_count": 9,
     "metadata": {},
     "output_type": "execute_result"
    },
    {
     "data": {
      "image/png": "[encoded data removed]",
      "text/plain": [
       "<Figure size 864x288 with 2 Axes>"
      ]
     },
     "metadata": {
      "needs_background": "light"
     },
     "output_type": "display_data"
    }
   ],
   "source": [
    "gd_data.hist(column='length', by='pro_vs_con', bins=100,figsize=(12,4))"
   ]
  },
  {
   "cell_type": "code",
   "execution_count": 10,
   "metadata": {},
   "outputs": [
    {
     "data": {
      "text/html": [
       "<div>\n",
       "<style scoped>\n",
       "    .dataframe tbody tr th:only-of-type {\n",
       "        vertical-align: middle;\n",
       "    }\n",
       "\n",
       "    .dataframe tbody tr th {\n",
       "        vertical-align: top;\n",
       "    }\n",
       "\n",
       "    .dataframe thead th {\n",
       "        text-align: right;\n",
       "    }\n",
       "</style>\n",
       "<table border=\"1\" class=\"dataframe\">\n",
       "  <thead>\n",
       "    <tr style=\"text-align: right;\">\n",
       "      <th></th>\n",
       "      <th>count</th>\n",
       "      <th>mean</th>\n",
       "      <th>std</th>\n",
       "      <th>min</th>\n",
       "      <th>25%</th>\n",
       "      <th>50%</th>\n",
       "      <th>75%</th>\n",
       "      <th>max</th>\n",
       "    </tr>\n",
       "    <tr>\n",
       "      <th>pro_vs_con</th>\n",
       "      <th></th>\n",
       "      <th></th>\n",
       "      <th></th>\n",
       "      <th></th>\n",
       "      <th></th>\n",
       "      <th></th>\n",
       "      <th></th>\n",
       "      <th></th>\n",
       "    </tr>\n",
       "  </thead>\n",
       "  <tbody>\n",
       "    <tr>\n",
       "      <th>cons</th>\n",
       "      <td>2000.0</td>\n",
       "      <td>172.2690</td>\n",
       "      <td>236.702984</td>\n",
       "      <td>6.0</td>\n",
       "      <td>47.0</td>\n",
       "      <td>92.0</td>\n",
       "      <td>196.0</td>\n",
       "      <td>2328.0</td>\n",
       "    </tr>\n",
       "    <tr>\n",
       "      <th>pros</th>\n",
       "      <td>2000.0</td>\n",
       "      <td>90.9025</td>\n",
       "      <td>91.128487</td>\n",
       "      <td>6.0</td>\n",
       "      <td>40.0</td>\n",
       "      <td>60.0</td>\n",
       "      <td>117.0</td>\n",
       "      <td>1443.0</td>\n",
       "    </tr>\n",
       "  </tbody>\n",
       "</table>\n",
       "</div>"
      ],
      "text/plain": [
       "             count      mean         std  min   25%   50%    75%     max\n",
       "pro_vs_con                                                              \n",
       "cons        2000.0  172.2690  236.702984  6.0  47.0  92.0  196.0  2328.0\n",
       "pros        2000.0   90.9025   91.128487  6.0  40.0  60.0  117.0  1443.0"
      ]
     },
     "execution_count": 10,
     "metadata": {},
     "output_type": "execute_result"
    }
   ],
   "source": [
    "gd_data.groupby('pro_vs_con').length.describe()"
   ]
  },
  {
   "cell_type": "markdown",
   "metadata": {},
   "source": [
    "Most *cons* reviews are longer than *pros* reviews. This is consistent with what I've seen in other employee text data."
   ]
  },
  {
   "cell_type": "markdown",
   "metadata": {},
   "source": [
    "What is the date range?"
   ]
  },
  {
   "cell_type": "code",
   "execution_count": 11,
   "metadata": {},
   "outputs": [
    {
     "data": {
      "text/plain": [
       "str"
      ]
     },
     "execution_count": 11,
     "metadata": {},
     "output_type": "execute_result"
    }
   ],
   "source": [
    "type(gd_data['date'][0])"
   ]
  },
  {
   "cell_type": "markdown",
   "metadata": {},
   "source": [
    "Coerce dates to datetime and find the range"
   ]
  },
  {
   "cell_type": "code",
   "execution_count": 12,
   "metadata": {},
   "outputs": [],
   "source": [
    "# coerce to date\n",
    "gd_data['date'] = pd.to_datetime(gd_data['date'])"
   ]
  },
  {
   "cell_type": "code",
   "execution_count": 13,
   "metadata": {},
   "outputs": [
    {
     "data": {
      "text/plain": [
       "Text(0.5, 1.0, 'Monthly total reviews over time')"
      ]
     },
     "execution_count": 13,
     "metadata": {},
     "output_type": "execute_result"
    },
    {
     "data": {
      "image/png": "[encoded data removed]",
      "text/plain": [
       "<Figure size 432x288 with 1 Axes>"
      ]
     },
     "metadata": {
      "needs_background": "light"
     },
     "output_type": "display_data"
    }
   ],
   "source": [
    "gd_data.groupby([gd_data[\"date\"].dt.year, \n",
    "                 gd_data[\"date\"].dt.month]).count().iloc[:, 1].plot(kind='line')\n",
    "plt.xlabel('year, month')\n",
    "plt.title('Monthly total reviews over time')"
   ]
  },
  {
   "cell_type": "markdown",
   "metadata": {},
   "source": [
    "Looks like a nice spread over the 2+ year interval. Helpful for trending over time later."
   ]
  },
  {
   "cell_type": "markdown",
   "metadata": {},
   "source": [
    "## Sentiment"
   ]
  },
  {
   "cell_type": "markdown",
   "metadata": {},
   "source": [
    "Before breaking text into its components, estimate review sentiment using VADER"
   ]
  },
  {
   "cell_type": "markdown",
   "metadata": {},
   "source": [
    "Load the VADER lexicon"
   ]
  },
  {
   "cell_type": "code",
   "execution_count": 14,
   "metadata": {},
   "outputs": [],
   "source": [
    "sid = SentimentIntensityAnalyzer()"
   ]
  },
  {
   "cell_type": "code",
   "execution_count": 15,
   "metadata": {},
   "outputs": [
    {
     "data": {
      "text/html": [
       "<div>\n",
       "<style scoped>\n",
       "    .dataframe tbody tr th:only-of-type {\n",
       "        vertical-align: middle;\n",
       "    }\n",
       "\n",
       "    .dataframe tbody tr th {\n",
       "        vertical-align: top;\n",
       "    }\n",
       "\n",
       "    .dataframe thead th {\n",
       "        text-align: right;\n",
       "    }\n",
       "</style>\n",
       "<table border=\"1\" class=\"dataframe\">\n",
       "  <thead>\n",
       "    <tr style=\"text-align: right;\">\n",
       "      <th></th>\n",
       "      <th>date</th>\n",
       "      <th>title</th>\n",
       "      <th>pro_vs_con</th>\n",
       "      <th>review</th>\n",
       "      <th>length</th>\n",
       "      <th>scores</th>\n",
       "      <th>compound</th>\n",
       "      <th>comp_score</th>\n",
       "    </tr>\n",
       "  </thead>\n",
       "  <tbody>\n",
       "    <tr>\n",
       "      <th>0</th>\n",
       "      <td>2018-04-13</td>\n",
       "      <td>Good Company to Work For</td>\n",
       "      <td>pros</td>\n",
       "      <td>Great Pay, Flexible Hours, Unlimited Vacation.</td>\n",
       "      <td>46</td>\n",
       "      <td>{'neg': 0.135, 'neu': 0.288, 'pos': 0.577, 'co...</td>\n",
       "      <td>0.6808</td>\n",
       "      <td>pos</td>\n",
       "    </tr>\n",
       "    <tr>\n",
       "      <th>1</th>\n",
       "      <td>2018-04-16</td>\n",
       "      <td>First Impressions</td>\n",
       "      <td>pros</td>\n",
       "      <td>Great staff and very helpful. Fair compensatio...</td>\n",
       "      <td>56</td>\n",
       "      <td>{'neg': 0.0, 'neu': 0.338, 'pos': 0.662, 'comp...</td>\n",
       "      <td>0.8680</td>\n",
       "      <td>pos</td>\n",
       "    </tr>\n",
       "    <tr>\n",
       "      <th>2</th>\n",
       "      <td>2018-04-12</td>\n",
       "      <td>Sr. Engineering Technologist</td>\n",
       "      <td>pros</td>\n",
       "      <td>Great benefits, working condition and people!</td>\n",
       "      <td>45</td>\n",
       "      <td>{'neg': 0.0, 'neu': 0.364, 'pos': 0.636, 'comp...</td>\n",
       "      <td>0.7901</td>\n",
       "      <td>pos</td>\n",
       "    </tr>\n",
       "    <tr>\n",
       "      <th>3</th>\n",
       "      <td>2018-04-11</td>\n",
       "      <td>Environmental Specialist</td>\n",
       "      <td>pros</td>\n",
       "      <td>Very supportive environment for learning new t...</td>\n",
       "      <td>171</td>\n",
       "      <td>{'neg': 0.0, 'neu': 0.929, 'pos': 0.071, 'comp...</td>\n",
       "      <td>0.1893</td>\n",
       "      <td>pos</td>\n",
       "    </tr>\n",
       "    <tr>\n",
       "      <th>4</th>\n",
       "      <td>2018-04-12</td>\n",
       "      <td>Sales</td>\n",
       "      <td>pros</td>\n",
       "      <td>Work Life Balance, Slightly above average pay,...</td>\n",
       "      <td>73</td>\n",
       "      <td>{'neg': 0.087, 'neu': 0.69, 'pos': 0.222, 'com...</td>\n",
       "      <td>0.4144</td>\n",
       "      <td>pos</td>\n",
       "    </tr>\n",
       "  </tbody>\n",
       "</table>\n",
       "</div>"
      ],
      "text/plain": [
       "        date                         title pro_vs_con  \\\n",
       "0 2018-04-13      Good Company to Work For       pros   \n",
       "1 2018-04-16             First Impressions       pros   \n",
       "2 2018-04-12  Sr. Engineering Technologist       pros   \n",
       "3 2018-04-11      Environmental Specialist       pros   \n",
       "4 2018-04-12                         Sales       pros   \n",
       "\n",
       "                                              review  length  \\\n",
       "0     Great Pay, Flexible Hours, Unlimited Vacation.      46   \n",
       "1  Great staff and very helpful. Fair compensatio...      56   \n",
       "2      Great benefits, working condition and people!      45   \n",
       "3  Very supportive environment for learning new t...     171   \n",
       "4  Work Life Balance, Slightly above average pay,...      73   \n",
       "\n",
       "                                              scores  compound comp_score  \n",
       "0  {'neg': 0.135, 'neu': 0.288, 'pos': 0.577, 'co...    0.6808        pos  \n",
       "1  {'neg': 0.0, 'neu': 0.338, 'pos': 0.662, 'comp...    0.8680        pos  \n",
       "2  {'neg': 0.0, 'neu': 0.364, 'pos': 0.636, 'comp...    0.7901        pos  \n",
       "3  {'neg': 0.0, 'neu': 0.929, 'pos': 0.071, 'comp...    0.1893        pos  \n",
       "4  {'neg': 0.087, 'neu': 0.69, 'pos': 0.222, 'com...    0.4144        pos  "
      ]
     },
     "execution_count": 15,
     "metadata": {},
     "output_type": "execute_result"
    }
   ],
   "source": [
    "gd_data['scores'] = gd_data['review'].apply(lambda review: sid.polarity_scores(review))\n",
    "gd_data['compound']  = gd_data['scores'].apply(lambda score_dict: score_dict['compound'])\n",
    "gd_data['comp_score'] = gd_data['compound'].apply(lambda c: 'pos' if c >=0 else 'neg')\n",
    "gd_data.head()"
   ]
  },
  {
   "cell_type": "markdown",
   "metadata": {},
   "source": [
    "### Standardize the text"
   ]
  },
  {
   "cell_type": "code",
   "execution_count": 17,
   "metadata": {},
   "outputs": [
    {
     "data": {
      "text/html": [
       "<div>\n",
       "<style scoped>\n",
       "    .dataframe tbody tr th:only-of-type {\n",
       "        vertical-align: middle;\n",
       "    }\n",
       "\n",
       "    .dataframe tbody tr th {\n",
       "        vertical-align: top;\n",
       "    }\n",
       "\n",
       "    .dataframe thead th {\n",
       "        text-align: right;\n",
       "    }\n",
       "</style>\n",
       "<table border=\"1\" class=\"dataframe\">\n",
       "  <thead>\n",
       "    <tr style=\"text-align: right;\">\n",
       "      <th></th>\n",
       "      <th>date</th>\n",
       "      <th>title</th>\n",
       "      <th>pro_vs_con</th>\n",
       "      <th>review</th>\n",
       "      <th>length</th>\n",
       "      <th>scores</th>\n",
       "      <th>compound</th>\n",
       "      <th>comp_score</th>\n",
       "      <th>review_raw</th>\n",
       "    </tr>\n",
       "  </thead>\n",
       "  <tbody>\n",
       "    <tr>\n",
       "      <th>0</th>\n",
       "      <td>2018-04-13</td>\n",
       "      <td>Good Company to Work For</td>\n",
       "      <td>pros</td>\n",
       "      <td>great pay, flexible hours, unlimited vacation</td>\n",
       "      <td>46</td>\n",
       "      <td>{'neg': 0.135, 'neu': 0.288, 'pos': 0.577, 'co...</td>\n",
       "      <td>0.6808</td>\n",
       "      <td>pos</td>\n",
       "      <td>Great Pay, Flexible Hours, Unlimited Vacation.</td>\n",
       "    </tr>\n",
       "    <tr>\n",
       "      <th>1</th>\n",
       "      <td>2018-04-16</td>\n",
       "      <td>First Impressions</td>\n",
       "      <td>pros</td>\n",
       "      <td>great staff and very helpful  fair compensatio...</td>\n",
       "      <td>56</td>\n",
       "      <td>{'neg': 0.0, 'neu': 0.338, 'pos': 0.662, 'comp...</td>\n",
       "      <td>0.8680</td>\n",
       "      <td>pos</td>\n",
       "      <td>Great staff and very helpful. Fair compensatio...</td>\n",
       "    </tr>\n",
       "    <tr>\n",
       "      <th>2</th>\n",
       "      <td>2018-04-12</td>\n",
       "      <td>Sr. Engineering Technologist</td>\n",
       "      <td>pros</td>\n",
       "      <td>great benefits, working condition and people!</td>\n",
       "      <td>45</td>\n",
       "      <td>{'neg': 0.0, 'neu': 0.364, 'pos': 0.636, 'comp...</td>\n",
       "      <td>0.7901</td>\n",
       "      <td>pos</td>\n",
       "      <td>Great benefits, working condition and people!</td>\n",
       "    </tr>\n",
       "    <tr>\n",
       "      <th>3</th>\n",
       "      <td>2018-04-11</td>\n",
       "      <td>Environmental Specialist</td>\n",
       "      <td>pros</td>\n",
       "      <td>very supportive environment for learning new t...</td>\n",
       "      <td>171</td>\n",
       "      <td>{'neg': 0.0, 'neu': 0.929, 'pos': 0.071, 'comp...</td>\n",
       "      <td>0.1893</td>\n",
       "      <td>pos</td>\n",
       "      <td>Very supportive environment for learning new t...</td>\n",
       "    </tr>\n",
       "    <tr>\n",
       "      <th>4</th>\n",
       "      <td>2018-04-12</td>\n",
       "      <td>Sales</td>\n",
       "      <td>pros</td>\n",
       "      <td>work life balance, slightly above average pay,...</td>\n",
       "      <td>73</td>\n",
       "      <td>{'neg': 0.087, 'neu': 0.69, 'pos': 0.222, 'com...</td>\n",
       "      <td>0.4144</td>\n",
       "      <td>pos</td>\n",
       "      <td>Work Life Balance, Slightly above average pay,...</td>\n",
       "    </tr>\n",
       "  </tbody>\n",
       "</table>\n",
       "</div>"
      ],
      "text/plain": [
       "        date                         title pro_vs_con  \\\n",
       "0 2018-04-13      Good Company to Work For       pros   \n",
       "1 2018-04-16             First Impressions       pros   \n",
       "2 2018-04-12  Sr. Engineering Technologist       pros   \n",
       "3 2018-04-11      Environmental Specialist       pros   \n",
       "4 2018-04-12                         Sales       pros   \n",
       "\n",
       "                                              review  length  \\\n",
       "0     great pay, flexible hours, unlimited vacation       46   \n",
       "1  great staff and very helpful  fair compensatio...      56   \n",
       "2      great benefits, working condition and people!      45   \n",
       "3  very supportive environment for learning new t...     171   \n",
       "4  work life balance, slightly above average pay,...      73   \n",
       "\n",
       "                                              scores  compound comp_score  \\\n",
       "0  {'neg': 0.135, 'neu': 0.288, 'pos': 0.577, 'co...    0.6808        pos   \n",
       "1  {'neg': 0.0, 'neu': 0.338, 'pos': 0.662, 'comp...    0.8680        pos   \n",
       "2  {'neg': 0.0, 'neu': 0.364, 'pos': 0.636, 'comp...    0.7901        pos   \n",
       "3  {'neg': 0.0, 'neu': 0.929, 'pos': 0.071, 'comp...    0.1893        pos   \n",
       "4  {'neg': 0.087, 'neu': 0.69, 'pos': 0.222, 'com...    0.4144        pos   \n",
       "\n",
       "                                          review_raw  \n",
       "0     Great Pay, Flexible Hours, Unlimited Vacation.  \n",
       "1  Great staff and very helpful. Fair compensatio...  \n",
       "2      Great benefits, working condition and people!  \n",
       "3  Very supportive environment for learning new t...  \n",
       "4  Work Life Balance, Slightly above average pay,...  "
      ]
     },
     "execution_count": 17,
     "metadata": {},
     "output_type": "execute_result"
    }
   ],
   "source": [
    "gd_data_clean = gd_data\n",
    "gd_data_clean['review_raw'] = gd_data['review']\n",
    "gd_data_clean = standardize_text(gd_data, \"review\")\n",
    "gd_data_clean.to_csv(\"clean_data.csv\")\n",
    "gd_data_clean.head()"
   ]
  },
  {
   "cell_type": "markdown",
   "metadata": {},
   "source": [
    "### Preprocessing"
   ]
  },
  {
   "cell_type": "code",
   "execution_count": 18,
   "metadata": {},
   "outputs": [],
   "source": [
    "# list of punctuation marks\n",
    "punctuations = string.punctuation\n",
    "\n",
    "# list of stopwords\n",
    "nlp = spacy.load('en_core_web_sm')\n",
    "\n",
    "# Load English tokenizer, tagger, parser, NER and word vectors\n",
    "parser = English()"
   ]
  },
  {
   "cell_type": "markdown",
   "metadata": {},
   "source": [
    "Make separate corpora for pro and con reviews"
   ]
  },
  {
   "cell_type": "code",
   "execution_count": 19,
   "metadata": {},
   "outputs": [],
   "source": [
    "pro_reviews = gd_data_clean.loc[gd_data['pro_vs_con'] == 'pros', 'review']\n",
    "con_reviews = gd_data_clean.loc[gd_data['pro_vs_con'] == 'cons', 'review']"
   ]
  },
  {
   "cell_type": "markdown",
   "metadata": {},
   "source": [
    "Function for flattening lists"
   ]
  },
  {
   "cell_type": "code",
   "execution_count": 20,
   "metadata": {},
   "outputs": [],
   "source": [
    "def flattenList(listIn):\n",
    "    listOut = [item for sublist in listIn for item in sublist]\n",
    "    return listOut"
   ]
  },
  {
   "cell_type": "markdown",
   "metadata": {},
   "source": [
    "Generate language features"
   ]
  },
  {
   "cell_type": "code",
   "execution_count": 159,
   "metadata": {},
   "outputs": [],
   "source": [
    "tokens = []\n",
    "lemma = []\n",
    "pos = []\n",
    "is_stop = []\n",
    "pro_vs_con = []\n",
    "title = []\n",
    "txt = []\n",
    "txt_raw = []\n",
    "sentiment_score = []\n",
    "entity_txt = []\n",
    "entity_review = []\n",
    "entity_lab = []\n",
    "\n",
    "# iteratively get metrics for each comment\n",
    "for i in gd_data_clean.index:\n",
    "    this_pro_v_con = gd_data_clean.loc[i, 'pro_vs_con']\n",
    "    this_title = gd_data_clean.loc[i, 'title']\n",
    "    this_text = gd_data_clean.loc[i, 'review']\n",
    "    this_text_raw = gd_data_clean.loc[i, 'review_raw']\n",
    "    this_sent = gd_data_clean.loc[i, 'compound']\n",
    "    doc = nlp(this_text)\n",
    "    doc_raw = nlp(this_text_raw)\n",
    "    pro_vs_con.append(list(itertools.repeat(this_pro_v_con, len(doc))))\n",
    "    title.append(list(itertools.repeat(this_title, len(doc))))\n",
    "    txt.append(list(itertools.repeat(this_text, len(doc))))\n",
    "    txt_raw.append(list(itertools.repeat(this_text_raw, len(doc))))\n",
    "    sentiment_score.append(list(itertools.repeat(this_sent, len(doc))))\n",
    "    tokens.append([n.text for n in doc])\n",
    "    lemma.append([n.lemma_ for n in doc])\n",
    "    pos.append([n.pos_ for n in doc])\n",
    "    is_stop.append([n.is_stop for n in doc])\n",
    "    entity_txt.append([n.text for n in doc_raw.ents])\n",
    "    entity_review.append([doc_raw.text])\n",
    "    entity_lab.append([n.label_ for n in doc_raw.ents])"
   ]
  },
  {
   "cell_type": "code",
   "execution_count": 164,
   "metadata": {},
   "outputs": [
    {
     "data": {
      "text/plain": [
       "'Daily meeting & the kaizen it makes bit irritation'"
      ]
     },
     "execution_count": 164,
     "metadata": {},
     "output_type": "execute_result"
    }
   ],
   "source": [
    "doc_raw.text_with"
   ]
  },
  {
   "cell_type": "code",
   "execution_count": 165,
   "metadata": {},
   "outputs": [],
   "source": [
    "# package it all into a pandas data frame for analytic convenience\n",
    "spacyPreproc_tokens = pd.DataFrame({\n",
    "    'pro_vs_con': flattenList(pro_vs_con),\n",
    "    'text': flattenList(txt),\n",
    "    'text_raw': flattenList(txt_raw),\n",
    "    'title': flattenList(title), \n",
    "    'sentiment': flattenList(sentiment_score),\n",
    "    'token': flattenList(tokens), \n",
    "    'lemma': flattenList(lemma),\n",
    "    'pos': flattenList(pos),\n",
    "    'is_stop': flattenList(is_stop)\n",
    "             })"
   ]
  },
  {
   "cell_type": "code",
   "execution_count": 166,
   "metadata": {},
   "outputs": [
    {
     "data": {
      "text/html": [
       "<div>\n",
       "<style scoped>\n",
       "    .dataframe tbody tr th:only-of-type {\n",
       "        vertical-align: middle;\n",
       "    }\n",
       "\n",
       "    .dataframe tbody tr th {\n",
       "        vertical-align: top;\n",
       "    }\n",
       "\n",
       "    .dataframe thead th {\n",
       "        text-align: right;\n",
       "    }\n",
       "</style>\n",
       "<table border=\"1\" class=\"dataframe\">\n",
       "  <thead>\n",
       "    <tr style=\"text-align: right;\">\n",
       "      <th></th>\n",
       "      <th>pro_vs_con</th>\n",
       "      <th>text</th>\n",
       "      <th>text_raw</th>\n",
       "      <th>title</th>\n",
       "      <th>sentiment</th>\n",
       "      <th>token</th>\n",
       "      <th>lemma</th>\n",
       "      <th>pos</th>\n",
       "      <th>is_stop</th>\n",
       "    </tr>\n",
       "  </thead>\n",
       "  <tbody>\n",
       "    <tr>\n",
       "      <th>0</th>\n",
       "      <td>pros</td>\n",
       "      <td>great pay, flexible hours, unlimited vacation</td>\n",
       "      <td>Great Pay, Flexible Hours, Unlimited Vacation.</td>\n",
       "      <td>Good Company to Work For</td>\n",
       "      <td>0.6808</td>\n",
       "      <td>great</td>\n",
       "      <td>great</td>\n",
       "      <td>ADJ</td>\n",
       "      <td>False</td>\n",
       "    </tr>\n",
       "    <tr>\n",
       "      <th>1</th>\n",
       "      <td>pros</td>\n",
       "      <td>great pay, flexible hours, unlimited vacation</td>\n",
       "      <td>Great Pay, Flexible Hours, Unlimited Vacation.</td>\n",
       "      <td>Good Company to Work For</td>\n",
       "      <td>0.6808</td>\n",
       "      <td>pay</td>\n",
       "      <td>pay</td>\n",
       "      <td>NOUN</td>\n",
       "      <td>False</td>\n",
       "    </tr>\n",
       "    <tr>\n",
       "      <th>2</th>\n",
       "      <td>pros</td>\n",
       "      <td>great pay, flexible hours, unlimited vacation</td>\n",
       "      <td>Great Pay, Flexible Hours, Unlimited Vacation.</td>\n",
       "      <td>Good Company to Work For</td>\n",
       "      <td>0.6808</td>\n",
       "      <td>,</td>\n",
       "      <td>,</td>\n",
       "      <td>PUNCT</td>\n",
       "      <td>False</td>\n",
       "    </tr>\n",
       "    <tr>\n",
       "      <th>3</th>\n",
       "      <td>pros</td>\n",
       "      <td>great pay, flexible hours, unlimited vacation</td>\n",
       "      <td>Great Pay, Flexible Hours, Unlimited Vacation.</td>\n",
       "      <td>Good Company to Work For</td>\n",
       "      <td>0.6808</td>\n",
       "      <td>flexible</td>\n",
       "      <td>flexible</td>\n",
       "      <td>ADJ</td>\n",
       "      <td>False</td>\n",
       "    </tr>\n",
       "    <tr>\n",
       "      <th>4</th>\n",
       "      <td>pros</td>\n",
       "      <td>great pay, flexible hours, unlimited vacation</td>\n",
       "      <td>Great Pay, Flexible Hours, Unlimited Vacation.</td>\n",
       "      <td>Good Company to Work For</td>\n",
       "      <td>0.6808</td>\n",
       "      <td>hours</td>\n",
       "      <td>hour</td>\n",
       "      <td>NOUN</td>\n",
       "      <td>False</td>\n",
       "    </tr>\n",
       "    <tr>\n",
       "      <th>5</th>\n",
       "      <td>pros</td>\n",
       "      <td>great pay, flexible hours, unlimited vacation</td>\n",
       "      <td>Great Pay, Flexible Hours, Unlimited Vacation.</td>\n",
       "      <td>Good Company to Work For</td>\n",
       "      <td>0.6808</td>\n",
       "      <td>,</td>\n",
       "      <td>,</td>\n",
       "      <td>PUNCT</td>\n",
       "      <td>False</td>\n",
       "    </tr>\n",
       "    <tr>\n",
       "      <th>6</th>\n",
       "      <td>pros</td>\n",
       "      <td>great pay, flexible hours, unlimited vacation</td>\n",
       "      <td>Great Pay, Flexible Hours, Unlimited Vacation.</td>\n",
       "      <td>Good Company to Work For</td>\n",
       "      <td>0.6808</td>\n",
       "      <td>unlimited</td>\n",
       "      <td>unlimited</td>\n",
       "      <td>ADJ</td>\n",
       "      <td>False</td>\n",
       "    </tr>\n",
       "    <tr>\n",
       "      <th>7</th>\n",
       "      <td>pros</td>\n",
       "      <td>great pay, flexible hours, unlimited vacation</td>\n",
       "      <td>Great Pay, Flexible Hours, Unlimited Vacation.</td>\n",
       "      <td>Good Company to Work For</td>\n",
       "      <td>0.6808</td>\n",
       "      <td>vacation</td>\n",
       "      <td>vacation</td>\n",
       "      <td>NOUN</td>\n",
       "      <td>False</td>\n",
       "    </tr>\n",
       "    <tr>\n",
       "      <th>8</th>\n",
       "      <td>pros</td>\n",
       "      <td>great staff and very helpful  fair compensatio...</td>\n",
       "      <td>Great staff and very helpful. Fair compensatio...</td>\n",
       "      <td>First Impressions</td>\n",
       "      <td>0.8680</td>\n",
       "      <td>great</td>\n",
       "      <td>great</td>\n",
       "      <td>ADJ</td>\n",
       "      <td>False</td>\n",
       "    </tr>\n",
       "    <tr>\n",
       "      <th>9</th>\n",
       "      <td>pros</td>\n",
       "      <td>great staff and very helpful  fair compensatio...</td>\n",
       "      <td>Great staff and very helpful. Fair compensatio...</td>\n",
       "      <td>First Impressions</td>\n",
       "      <td>0.8680</td>\n",
       "      <td>staff</td>\n",
       "      <td>staff</td>\n",
       "      <td>NOUN</td>\n",
       "      <td>False</td>\n",
       "    </tr>\n",
       "    <tr>\n",
       "      <th>10</th>\n",
       "      <td>pros</td>\n",
       "      <td>great staff and very helpful  fair compensatio...</td>\n",
       "      <td>Great staff and very helpful. Fair compensatio...</td>\n",
       "      <td>First Impressions</td>\n",
       "      <td>0.8680</td>\n",
       "      <td>and</td>\n",
       "      <td>and</td>\n",
       "      <td>CCONJ</td>\n",
       "      <td>True</td>\n",
       "    </tr>\n",
       "    <tr>\n",
       "      <th>11</th>\n",
       "      <td>pros</td>\n",
       "      <td>great staff and very helpful  fair compensatio...</td>\n",
       "      <td>Great staff and very helpful. Fair compensatio...</td>\n",
       "      <td>First Impressions</td>\n",
       "      <td>0.8680</td>\n",
       "      <td>very</td>\n",
       "      <td>very</td>\n",
       "      <td>ADV</td>\n",
       "      <td>True</td>\n",
       "    </tr>\n",
       "    <tr>\n",
       "      <th>12</th>\n",
       "      <td>pros</td>\n",
       "      <td>great staff and very helpful  fair compensatio...</td>\n",
       "      <td>Great staff and very helpful. Fair compensatio...</td>\n",
       "      <td>First Impressions</td>\n",
       "      <td>0.8680</td>\n",
       "      <td>helpful</td>\n",
       "      <td>helpful</td>\n",
       "      <td>ADJ</td>\n",
       "      <td>False</td>\n",
       "    </tr>\n",
       "    <tr>\n",
       "      <th>13</th>\n",
       "      <td>pros</td>\n",
       "      <td>great staff and very helpful  fair compensatio...</td>\n",
       "      <td>Great staff and very helpful. Fair compensatio...</td>\n",
       "      <td>First Impressions</td>\n",
       "      <td>0.8680</td>\n",
       "      <td></td>\n",
       "      <td></td>\n",
       "      <td>SPACE</td>\n",
       "      <td>False</td>\n",
       "    </tr>\n",
       "    <tr>\n",
       "      <th>14</th>\n",
       "      <td>pros</td>\n",
       "      <td>great staff and very helpful  fair compensatio...</td>\n",
       "      <td>Great staff and very helpful. Fair compensatio...</td>\n",
       "      <td>First Impressions</td>\n",
       "      <td>0.8680</td>\n",
       "      <td>fair</td>\n",
       "      <td>fair</td>\n",
       "      <td>ADJ</td>\n",
       "      <td>False</td>\n",
       "    </tr>\n",
       "    <tr>\n",
       "      <th>15</th>\n",
       "      <td>pros</td>\n",
       "      <td>great staff and very helpful  fair compensatio...</td>\n",
       "      <td>Great staff and very helpful. Fair compensatio...</td>\n",
       "      <td>First Impressions</td>\n",
       "      <td>0.8680</td>\n",
       "      <td>compensation</td>\n",
       "      <td>compensation</td>\n",
       "      <td>NOUN</td>\n",
       "      <td>False</td>\n",
       "    </tr>\n",
       "    <tr>\n",
       "      <th>16</th>\n",
       "      <td>pros</td>\n",
       "      <td>great staff and very helpful  fair compensatio...</td>\n",
       "      <td>Great staff and very helpful. Fair compensatio...</td>\n",
       "      <td>First Impressions</td>\n",
       "      <td>0.8680</td>\n",
       "      <td>package</td>\n",
       "      <td>package</td>\n",
       "      <td>NOUN</td>\n",
       "      <td>False</td>\n",
       "    </tr>\n",
       "    <tr>\n",
       "      <th>17</th>\n",
       "      <td>pros</td>\n",
       "      <td>great benefits, working condition and people!</td>\n",
       "      <td>Great benefits, working condition and people!</td>\n",
       "      <td>Sr. Engineering Technologist</td>\n",
       "      <td>0.7901</td>\n",
       "      <td>great</td>\n",
       "      <td>great</td>\n",
       "      <td>ADJ</td>\n",
       "      <td>False</td>\n",
       "    </tr>\n",
       "    <tr>\n",
       "      <th>18</th>\n",
       "      <td>pros</td>\n",
       "      <td>great benefits, working condition and people!</td>\n",
       "      <td>Great benefits, working condition and people!</td>\n",
       "      <td>Sr. Engineering Technologist</td>\n",
       "      <td>0.7901</td>\n",
       "      <td>benefits</td>\n",
       "      <td>benefit</td>\n",
       "      <td>NOUN</td>\n",
       "      <td>False</td>\n",
       "    </tr>\n",
       "    <tr>\n",
       "      <th>19</th>\n",
       "      <td>pros</td>\n",
       "      <td>great benefits, working condition and people!</td>\n",
       "      <td>Great benefits, working condition and people!</td>\n",
       "      <td>Sr. Engineering Technologist</td>\n",
       "      <td>0.7901</td>\n",
       "      <td>,</td>\n",
       "      <td>,</td>\n",
       "      <td>PUNCT</td>\n",
       "      <td>False</td>\n",
       "    </tr>\n",
       "  </tbody>\n",
       "</table>\n",
       "</div>"
      ],
      "text/plain": [
       "   pro_vs_con                                               text  \\\n",
       "0        pros     great pay, flexible hours, unlimited vacation    \n",
       "1        pros     great pay, flexible hours, unlimited vacation    \n",
       "2        pros     great pay, flexible hours, unlimited vacation    \n",
       "3        pros     great pay, flexible hours, unlimited vacation    \n",
       "4        pros     great pay, flexible hours, unlimited vacation    \n",
       "5        pros     great pay, flexible hours, unlimited vacation    \n",
       "6        pros     great pay, flexible hours, unlimited vacation    \n",
       "7        pros     great pay, flexible hours, unlimited vacation    \n",
       "8        pros  great staff and very helpful  fair compensatio...   \n",
       "9        pros  great staff and very helpful  fair compensatio...   \n",
       "10       pros  great staff and very helpful  fair compensatio...   \n",
       "11       pros  great staff and very helpful  fair compensatio...   \n",
       "12       pros  great staff and very helpful  fair compensatio...   \n",
       "13       pros  great staff and very helpful  fair compensatio...   \n",
       "14       pros  great staff and very helpful  fair compensatio...   \n",
       "15       pros  great staff and very helpful  fair compensatio...   \n",
       "16       pros  great staff and very helpful  fair compensatio...   \n",
       "17       pros      great benefits, working condition and people!   \n",
       "18       pros      great benefits, working condition and people!   \n",
       "19       pros      great benefits, working condition and people!   \n",
       "\n",
       "                                             text_raw  \\\n",
       "0      Great Pay, Flexible Hours, Unlimited Vacation.   \n",
       "1      Great Pay, Flexible Hours, Unlimited Vacation.   \n",
       "2      Great Pay, Flexible Hours, Unlimited Vacation.   \n",
       "3      Great Pay, Flexible Hours, Unlimited Vacation.   \n",
       "4      Great Pay, Flexible Hours, Unlimited Vacation.   \n",
       "5      Great Pay, Flexible Hours, Unlimited Vacation.   \n",
       "6      Great Pay, Flexible Hours, Unlimited Vacation.   \n",
       "7      Great Pay, Flexible Hours, Unlimited Vacation.   \n",
       "8   Great staff and very helpful. Fair compensatio...   \n",
       "9   Great staff and very helpful. Fair compensatio...   \n",
       "10  Great staff and very helpful. Fair compensatio...   \n",
       "11  Great staff and very helpful. Fair compensatio...   \n",
       "12  Great staff and very helpful. Fair compensatio...   \n",
       "13  Great staff and very helpful. Fair compensatio...   \n",
       "14  Great staff and very helpful. Fair compensatio...   \n",
       "15  Great staff and very helpful. Fair compensatio...   \n",
       "16  Great staff and very helpful. Fair compensatio...   \n",
       "17      Great benefits, working condition and people!   \n",
       "18      Great benefits, working condition and people!   \n",
       "19      Great benefits, working condition and people!   \n",
       "\n",
       "                           title  sentiment         token         lemma  \\\n",
       "0       Good Company to Work For     0.6808         great         great   \n",
       "1       Good Company to Work For     0.6808           pay           pay   \n",
       "2       Good Company to Work For     0.6808             ,             ,   \n",
       "3       Good Company to Work For     0.6808      flexible      flexible   \n",
       "4       Good Company to Work For     0.6808         hours          hour   \n",
       "5       Good Company to Work For     0.6808             ,             ,   \n",
       "6       Good Company to Work For     0.6808     unlimited     unlimited   \n",
       "7       Good Company to Work For     0.6808      vacation      vacation   \n",
       "8              First Impressions     0.8680         great         great   \n",
       "9              First Impressions     0.8680         staff         staff   \n",
       "10             First Impressions     0.8680           and           and   \n",
       "11             First Impressions     0.8680          very          very   \n",
       "12             First Impressions     0.8680       helpful       helpful   \n",
       "13             First Impressions     0.8680                               \n",
       "14             First Impressions     0.8680          fair          fair   \n",
       "15             First Impressions     0.8680  compensation  compensation   \n",
       "16             First Impressions     0.8680       package       package   \n",
       "17  Sr. Engineering Technologist     0.7901         great         great   \n",
       "18  Sr. Engineering Technologist     0.7901      benefits       benefit   \n",
       "19  Sr. Engineering Technologist     0.7901             ,             ,   \n",
       "\n",
       "      pos  is_stop  \n",
       "0     ADJ    False  \n",
       "1    NOUN    False  \n",
       "2   PUNCT    False  \n",
       "3     ADJ    False  \n",
       "4    NOUN    False  \n",
       "5   PUNCT    False  \n",
       "6     ADJ    False  \n",
       "7    NOUN    False  \n",
       "8     ADJ    False  \n",
       "9    NOUN    False  \n",
       "10  CCONJ     True  \n",
       "11    ADV     True  \n",
       "12    ADJ    False  \n",
       "13  SPACE    False  \n",
       "14    ADJ    False  \n",
       "15   NOUN    False  \n",
       "16   NOUN    False  \n",
       "17    ADJ    False  \n",
       "18   NOUN    False  \n",
       "19  PUNCT    False  "
      ]
     },
     "execution_count": 166,
     "metadata": {},
     "output_type": "execute_result"
    }
   ],
   "source": [
    "spacyPreproc_tokens.head(20)"
   ]
  },
  {
   "cell_type": "code",
   "execution_count": 167,
   "metadata": {},
   "outputs": [],
   "source": [
    "# filter for \"pros\" and \"cons\" entities\n",
    "cons_entity_txt = [entity_txt[i] for i in np.where(gd_data_clean['pro_vs_con'] == 'cons')[0]]\n",
    "cons_entity_label = [entity_lab[i] for i in np.where(gd_data_clean['pro_vs_con'] == 'cons')[0]]\n",
    "cons_review = [txt_raw[i] for i in np.where(gd_data_clean['pro_vs_con'] == 'cons')[0]]\n",
    "cons_sentiment = [sentiment_score[i] for i in np.where(gd_data_clean['pro_vs_con'] == 'cons')[0]]\n",
    "pros_entity_txt = [entity_txt[i] for i in np.where(gd_data_clean['pro_vs_con'] == 'pros')[0]]\n",
    "pros_entity_label = [entity_lab[i] for i in np.where(gd_data_clean['pro_vs_con'] == 'pros')[0]]\n",
    "pros_review = [txt_raw[i] for i in np.where(gd_data_clean['pro_vs_con'] == 'pros')[0]]\n",
    "pros_sentiment = [sentiment_score[i] for i in np.where(gd_data_clean['pro_vs_con'] == 'pros')[0]]\n",
    "# collapse each list of lists into a single list of unique elements\n",
    "cons_review_clean = [list(pd.unique(x)) for x in cons_review]\n",
    "cons_sentiment_clean = [list(pd.unique(x)) for x in cons_sentiment]\n",
    "pros_review_clean = [list(pd.unique(x)) for x in pros_review]\n",
    "pros_sentiment_clean = [list(pd.unique(x)) for x in cons_sentiment]"
   ]
  },
  {
   "cell_type": "code",
   "execution_count": 168,
   "metadata": {},
   "outputs": [
    {
     "data": {
      "text/plain": [
       "['Silo', 'the year']"
      ]
     },
     "execution_count": 168,
     "metadata": {},
     "output_type": "execute_result"
    }
   ],
   "source": [
    "cons_entity_txt[5]"
   ]
  },
  {
   "cell_type": "code",
   "execution_count": 169,
   "metadata": {},
   "outputs": [],
   "source": [
    "# build a data frame for each\n",
    "cons_entities = pd.DataFrame({\n",
    "    'entity': flattenList(cons_entity_txt),\n",
    "    'entity_label': flattenList(cons_entity_label)#,\n",
    "#     'sentiment': cons_sentiment_clean,\n",
    "#     'review': cons_review_clean\n",
    "})\n",
    "pros_entities = pd.DataFrame({\n",
    "    'entity': flattenList(pros_entity_txt),\n",
    "    'entity_label': flattenList(pros_entity_label)#,\n",
    "#     'sentiment': pros_sentiment_clean,\n",
    "#     'review': pros_review_clean\n",
    "})"
   ]
  },
  {
   "cell_type": "markdown",
   "metadata": {},
   "source": [
    "### Term Frequency"
   ]
  },
  {
   "cell_type": "markdown",
   "metadata": {},
   "source": [
    "Without any further cleaning, what are the most common terms in 'Change' and 'Value' comments?"
   ]
  },
  {
   "cell_type": "markdown",
   "metadata": {},
   "source": [
    "Most common \"change\" lemma"
   ]
  },
  {
   "cell_type": "code",
   "execution_count": 183,
   "metadata": {},
   "outputs": [
    {
     "data": {
      "text/plain": [
       "<Figure size 1080x360 with 0 Axes>"
      ]
     },
     "metadata": {},
     "output_type": "display_data"
    },
    {
     "data": {
      "image/png": "[encoded data removed]",
      "text/plain": [
       "<Figure size 360x360 with 1 Axes>"
      ]
     },
     "metadata": {
      "needs_background": "light"
     },
     "output_type": "display_data"
    }
   ],
   "source": [
    "cons_toks = spacyPreproc_tokens[(spacyPreproc_tokens['pos'] != 'PUNCT') &\n",
    "                                 (spacyPreproc_tokens['pro_vs_con'] == 'cons') &\n",
    "                                 (~spacyPreproc_tokens['is_stop']) &\n",
    "                                 ~spacyPreproc_tokens['token'].isin([' ', '', '  '])]\n",
    "cons_toks_count = termCount(data=cons_toks, targetVar='lemma')\n",
    "plotTopTerms(data=cons_toks_count, targetVar='lemma', title=\"Most common 'Con' lemma\",\n",
    "            n=30)"
   ]
  },
  {
   "cell_type": "markdown",
   "metadata": {},
   "source": [
    "Most common \"pros\" lemma"
   ]
  },
  {
   "cell_type": "code",
   "execution_count": 184,
   "metadata": {},
   "outputs": [
    {
     "data": {
      "text/plain": [
       "<Figure size 1080x360 with 0 Axes>"
      ]
     },
     "metadata": {},
     "output_type": "display_data"
    },
    {
     "data": {
      "image/png": "[encoded data removed]",
      "text/plain": [
       "<Figure size 360x360 with 1 Axes>"
      ]
     },
     "metadata": {
      "needs_background": "light"
     },
     "output_type": "display_data"
    }
   ],
   "source": [
    "pros_toks = spacyPreproc_tokens[(spacyPreproc_tokens['pos'] != 'PUNCT') &\n",
    "                                 (spacyPreproc_tokens['pro_vs_con'] == 'pros') &\n",
    "                                 (~spacyPreproc_tokens['is_stop']) &\n",
    "                                 ~spacyPreproc_tokens['token'].isin([' ', '', '  '])]\n",
    "pros_toks_count = termCount(data=pros_toks, targetVar='lemma')\n",
    "plotTopTerms(data=pros_toks_count, targetVar='lemma', title=\"Most common 'Pro' terms\",\n",
    "            n=30)"
   ]
  },
  {
   "cell_type": "code",
   "execution_count": 185,
   "metadata": {},
   "outputs": [
    {
     "data": {
      "text/html": [
       "<div>\n",
       "<style scoped>\n",
       "    .dataframe tbody tr th:only-of-type {\n",
       "        vertical-align: middle;\n",
       "    }\n",
       "\n",
       "    .dataframe tbody tr th {\n",
       "        vertical-align: top;\n",
       "    }\n",
       "\n",
       "    .dataframe thead th {\n",
       "        text-align: right;\n",
       "    }\n",
       "</style>\n",
       "<table border=\"1\" class=\"dataframe\">\n",
       "  <thead>\n",
       "    <tr style=\"text-align: right;\">\n",
       "      <th></th>\n",
       "      <th>pos</th>\n",
       "      <th>count</th>\n",
       "    </tr>\n",
       "  </thead>\n",
       "  <tbody>\n",
       "    <tr>\n",
       "      <th>0</th>\n",
       "      <td>NOUN</td>\n",
       "      <td>26254</td>\n",
       "    </tr>\n",
       "    <tr>\n",
       "      <th>1</th>\n",
       "      <td>VERB</td>\n",
       "      <td>16434</td>\n",
       "    </tr>\n",
       "    <tr>\n",
       "      <th>2</th>\n",
       "      <td>ADJ</td>\n",
       "      <td>12451</td>\n",
       "    </tr>\n",
       "    <tr>\n",
       "      <th>3</th>\n",
       "      <td>ADP</td>\n",
       "      <td>9436</td>\n",
       "    </tr>\n",
       "    <tr>\n",
       "      <th>4</th>\n",
       "      <td>DET</td>\n",
       "      <td>6483</td>\n",
       "    </tr>\n",
       "    <tr>\n",
       "      <th>5</th>\n",
       "      <td>ADV</td>\n",
       "      <td>6223</td>\n",
       "    </tr>\n",
       "    <tr>\n",
       "      <th>6</th>\n",
       "      <td>SPACE</td>\n",
       "      <td>4513</td>\n",
       "    </tr>\n",
       "    <tr>\n",
       "      <th>7</th>\n",
       "      <td>PUNCT</td>\n",
       "      <td>4349</td>\n",
       "    </tr>\n",
       "    <tr>\n",
       "      <th>8</th>\n",
       "      <td>CCONJ</td>\n",
       "      <td>3266</td>\n",
       "    </tr>\n",
       "    <tr>\n",
       "      <th>9</th>\n",
       "      <td>PRON</td>\n",
       "      <td>3221</td>\n",
       "    </tr>\n",
       "    <tr>\n",
       "      <th>10</th>\n",
       "      <td>PART</td>\n",
       "      <td>2930</td>\n",
       "    </tr>\n",
       "    <tr>\n",
       "      <th>11</th>\n",
       "      <td>NUM</td>\n",
       "      <td>1074</td>\n",
       "    </tr>\n",
       "    <tr>\n",
       "      <th>12</th>\n",
       "      <td>X</td>\n",
       "      <td>71</td>\n",
       "    </tr>\n",
       "    <tr>\n",
       "      <th>13</th>\n",
       "      <td>PROPN</td>\n",
       "      <td>62</td>\n",
       "    </tr>\n",
       "    <tr>\n",
       "      <th>14</th>\n",
       "      <td>INTJ</td>\n",
       "      <td>56</td>\n",
       "    </tr>\n",
       "    <tr>\n",
       "      <th>15</th>\n",
       "      <td>SYM</td>\n",
       "      <td>1</td>\n",
       "    </tr>\n",
       "  </tbody>\n",
       "</table>\n",
       "</div>"
      ],
      "text/plain": [
       "      pos  count\n",
       "0    NOUN  26254\n",
       "1    VERB  16434\n",
       "2     ADJ  12451\n",
       "3     ADP   9436\n",
       "4     DET   6483\n",
       "5     ADV   6223\n",
       "6   SPACE   4513\n",
       "7   PUNCT   4349\n",
       "8   CCONJ   3266\n",
       "9    PRON   3221\n",
       "10   PART   2930\n",
       "11    NUM   1074\n",
       "12      X     71\n",
       "13  PROPN     62\n",
       "14   INTJ     56\n",
       "15    SYM      1"
      ]
     },
     "execution_count": 185,
     "metadata": {},
     "output_type": "execute_result"
    }
   ],
   "source": [
    "termCount(spacyPreproc_tokens, 'pos')"
   ]
  },
  {
   "cell_type": "code",
   "execution_count": 186,
   "metadata": {},
   "outputs": [
    {
     "data": {
      "text/plain": [
       "<Figure size 1080x360 with 0 Axes>"
      ]
     },
     "metadata": {},
     "output_type": "display_data"
    },
    {
     "data": {
      "image/png": "[encoded data removed]",
      "text/plain": [
       "<Figure size 360x360 with 1 Axes>"
      ]
     },
     "metadata": {
      "needs_background": "light"
     },
     "output_type": "display_data"
    }
   ],
   "source": [
    "cons_nouns = spacyPreproc_tokens[(spacyPreproc_tokens['pos'] != 'PUNCT') &\n",
    "                                  (spacyPreproc_tokens['pos'] == 'NOUN') &\n",
    "                                 (spacyPreproc_tokens['pro_vs_con'] == 'cons') &\n",
    "                                 (~spacyPreproc_tokens['is_stop']) &\n",
    "                                 ~spacyPreproc_tokens['token'].isin([' ', '', '  '])]\n",
    "con_noun_count = termCount(data=cons_nouns, targetVar='lemma')\n",
    "plotTopTerms(data=con_noun_count, targetVar='lemma', title=\"Most common 'Cons' nouns\",\n",
    "            n=30)"
   ]
  },
  {
   "cell_type": "code",
   "execution_count": 187,
   "metadata": {},
   "outputs": [
    {
     "data": {
      "text/plain": [
       "<Figure size 1080x360 with 0 Axes>"
      ]
     },
     "metadata": {},
     "output_type": "display_data"
    },
    {
     "data": {
      "image/png": "[encoded data removed]",
      "text/plain": [
       "<Figure size 360x360 with 1 Axes>"
      ]
     },
     "metadata": {
      "needs_background": "light"
     },
     "output_type": "display_data"
    }
   ],
   "source": [
    "cons_verb = spacyPreproc_tokens[(spacyPreproc_tokens['pos'] != 'PUNCT') &\n",
    "                                  (spacyPreproc_tokens['pos'] == 'VERB') &\n",
    "                                 (spacyPreproc_tokens['pro_vs_con'] == 'cons') &\n",
    "                                 (~spacyPreproc_tokens['is_stop']) &\n",
    "                                 ~spacyPreproc_tokens['token'].isin([' ', '', '  '])]\n",
    "con_verb_count = termCount(data=cons_verb, targetVar='lemma')\n",
    "plotTopTerms(data=con_verb_count, targetVar='lemma', title=\"Most Common 'Con' Verbs\",\n",
    "            n=30)"
   ]
  },
  {
   "cell_type": "code",
   "execution_count": 188,
   "metadata": {},
   "outputs": [
    {
     "data": {
      "text/plain": [
       "<Figure size 1080x360 with 0 Axes>"
      ]
     },
     "metadata": {},
     "output_type": "display_data"
    },
    {
     "data": {
      "image/png": "[encoded data removed]",
      "text/plain": [
       "<Figure size 360x360 with 1 Axes>"
      ]
     },
     "metadata": {
      "needs_background": "light"
     },
     "output_type": "display_data"
    }
   ],
   "source": [
    "cons_adj = spacyPreproc_tokens[(spacyPreproc_tokens['pos'] != 'PUNCT') &\n",
    "                                  (spacyPreproc_tokens['pos'] == 'ADJ') &\n",
    "                                 (spacyPreproc_tokens['pro_vs_con'] == 'cons') &\n",
    "                                 (~spacyPreproc_tokens['is_stop']) &\n",
    "                                 ~spacyPreproc_tokens['token'].isin([' ', '', '  '])]\n",
    "con_adj_count = termCount(data=cons_adj, targetVar='lemma')\n",
    "plotTopTerms(data=con_adj_count, targetVar='lemma', title=\"Most Common 'Con' Adjectives\",\n",
    "            n=30)"
   ]
  },
  {
   "cell_type": "code",
   "execution_count": 189,
   "metadata": {},
   "outputs": [
    {
     "data": {
      "text/plain": [
       "<Figure size 1080x360 with 0 Axes>"
      ]
     },
     "metadata": {},
     "output_type": "display_data"
    },
    {
     "data": {
      "image/png": "[encoded data removed]",
      "text/plain": [
       "<Figure size 360x360 with 1 Axes>"
      ]
     },
     "metadata": {
      "needs_background": "light"
     },
     "output_type": "display_data"
    }
   ],
   "source": [
    "cons_propn = spacyPreproc_tokens[(spacyPreproc_tokens['pos'] != 'PUNCT') &\n",
    "                                  (spacyPreproc_tokens['pos'] == 'PROPN') &\n",
    "                                 (spacyPreproc_tokens['pro_vs_con'] == 'cons') &\n",
    "                                 (~spacyPreproc_tokens['is_stop']) &\n",
    "                                 ~spacyPreproc_tokens['token'].isin([' ', '', '  '])]\n",
    "con_propn_count = termCount(data=cons_propn, targetVar='lemma')\n",
    "plotTopTerms(data=con_propn_count, targetVar='lemma', title=\"Most Common 'Con' Proper Nouns\")"
   ]
  },
  {
   "cell_type": "code",
   "execution_count": 190,
   "metadata": {},
   "outputs": [
    {
     "data": {
      "text/plain": [
       "<Figure size 1080x360 with 0 Axes>"
      ]
     },
     "metadata": {},
     "output_type": "display_data"
    },
    {
     "data": {
      "image/png": "[encoded data removed]",
      "text/plain": [
       "<Figure size 360x360 with 1 Axes>"
      ]
     },
     "metadata": {
      "needs_background": "light"
     },
     "output_type": "display_data"
    }
   ],
   "source": [
    "pros_nouns = spacyPreproc_tokens[(spacyPreproc_tokens['pos'] != 'PUNCT') &\n",
    "                                  (spacyPreproc_tokens['pos'] == 'NOUN') &\n",
    "                                 (spacyPreproc_tokens['pro_vs_con'] == 'pros') &\n",
    "                                 (~spacyPreproc_tokens['is_stop']) &\n",
    "                                 ~spacyPreproc_tokens['token'].isin([' ', '', '  '])]\n",
    "pro_noun_count = termCount(data=pros_nouns, targetVar='lemma')\n",
    "plotTopTerms(data=pro_noun_count, targetVar='lemma', title=\"Most common 'Pro' nouns\", \n",
    "             n=30)"
   ]
  },
  {
   "cell_type": "code",
   "execution_count": 191,
   "metadata": {},
   "outputs": [
    {
     "data": {
      "text/plain": [
       "<Figure size 1080x360 with 0 Axes>"
      ]
     },
     "metadata": {},
     "output_type": "display_data"
    },
    {
     "data": {
      "image/png": "[encoded data removed]",
      "text/plain": [
       "<Figure size 360x360 with 1 Axes>"
      ]
     },
     "metadata": {
      "needs_background": "light"
     },
     "output_type": "display_data"
    }
   ],
   "source": [
    "pros_propn = spacyPreproc_tokens[(spacyPreproc_tokens['pos'] != 'PUNCT') &\n",
    "                                  (spacyPreproc_tokens['pos'] == 'PROPN') &\n",
    "                                 (spacyPreproc_tokens['pro_vs_con'] == 'pros') &\n",
    "                                 (~spacyPreproc_tokens['is_stop']) &\n",
    "                                 ~spacyPreproc_tokens['token'].isin([' ', '', '  '])]\n",
    "pro_propn_count = termCount(data=pros_propn, targetVar='lemma')\n",
    "plotTopTerms(data=pro_propn_count, targetVar='lemma', title=\"Most Common 'Pro' Proper Nouns\")"
   ]
  },
  {
   "cell_type": "markdown",
   "metadata": {},
   "source": [
    "### Most commen entities"
   ]
  },
  {
   "cell_type": "code",
   "execution_count": 170,
   "metadata": {},
   "outputs": [
    {
     "data": {
      "text/plain": [
       "<Figure size 432x288 with 0 Axes>"
      ]
     },
     "metadata": {},
     "output_type": "display_data"
    },
    {
     "data": {
      "image/png": "[encoded data removed]",
      "text/plain": [
       "<Figure size 360x360 with 1 Axes>"
      ]
     },
     "metadata": {
      "needs_background": "light"
     },
     "output_type": "display_data"
    }
   ],
   "source": [
    "cons_entities_clean = cons_entities[~cons_entities['entity'].isin([' ', '', '  '])]\n",
    "cons_ent_count = termCount(data=cons_entities_clean, targetVar='entity')\n",
    "plotTopTerms(data=cons_ent_count, targetVar='entity', \n",
    "             title = \"Most common named entities in 'Con' reviews\",\n",
    "            n=30)"
   ]
  },
  {
   "cell_type": "code",
   "execution_count": 171,
   "metadata": {},
   "outputs": [
    {
     "data": {
      "text/plain": [
       "<Figure size 432x288 with 0 Axes>"
      ]
     },
     "metadata": {},
     "output_type": "display_data"
    },
    {
     "data": {
      "image/png": "[encoded data removed]",
      "text/plain": [
       "<Figure size 360x360 with 1 Axes>"
      ]
     },
     "metadata": {
      "needs_background": "light"
     },
     "output_type": "display_data"
    }
   ],
   "source": [
    "pros_entities_clean = pros_entities[~pros_entities['entity'].isin([' ', '', '  '])]\n",
    "pros_ent_count = termCount(data=pros_entities_clean, targetVar='entity')\n",
    "plotTopTerms(data=pros_ent_count, targetVar='entity', title = \"Most common named entities in 'Pro' reviews\")"
   ]
  },
  {
   "cell_type": "code",
   "execution_count": 172,
   "metadata": {},
   "outputs": [
    {
     "data": {
      "text/html": [
       "<div>\n",
       "<style scoped>\n",
       "    .dataframe tbody tr th:only-of-type {\n",
       "        vertical-align: middle;\n",
       "    }\n",
       "\n",
       "    .dataframe tbody tr th {\n",
       "        vertical-align: top;\n",
       "    }\n",
       "\n",
       "    .dataframe thead th {\n",
       "        text-align: right;\n",
       "    }\n",
       "</style>\n",
       "<table border=\"1\" class=\"dataframe\">\n",
       "  <thead>\n",
       "    <tr style=\"text-align: right;\">\n",
       "      <th></th>\n",
       "      <th>entity</th>\n",
       "      <th>entity_label</th>\n",
       "    </tr>\n",
       "  </thead>\n",
       "  <tbody>\n",
       "    <tr>\n",
       "      <th>0</th>\n",
       "      <td>Health Care</td>\n",
       "      <td>ORG</td>\n",
       "    </tr>\n",
       "    <tr>\n",
       "      <th>1</th>\n",
       "      <td>401</td>\n",
       "      <td>CARDINAL</td>\n",
       "    </tr>\n",
       "    <tr>\n",
       "      <th>2</th>\n",
       "      <td>30 mile</td>\n",
       "      <td>QUANTITY</td>\n",
       "    </tr>\n",
       "    <tr>\n",
       "      <th>3</th>\n",
       "      <td>Silo</td>\n",
       "      <td>ORG</td>\n",
       "    </tr>\n",
       "    <tr>\n",
       "      <th>4</th>\n",
       "      <td>the year</td>\n",
       "      <td>DATE</td>\n",
       "    </tr>\n",
       "    <tr>\n",
       "      <th>...</th>\n",
       "      <td>...</td>\n",
       "      <td>...</td>\n",
       "    </tr>\n",
       "    <tr>\n",
       "      <th>2232</th>\n",
       "      <td>Furloughs</td>\n",
       "      <td>ORG</td>\n",
       "    </tr>\n",
       "    <tr>\n",
       "      <th>2233</th>\n",
       "      <td>2016</td>\n",
       "      <td>DATE</td>\n",
       "    </tr>\n",
       "    <tr>\n",
       "      <th>2234</th>\n",
       "      <td>Industrial Safety</td>\n",
       "      <td>ORG</td>\n",
       "    </tr>\n",
       "    <tr>\n",
       "      <th>2235</th>\n",
       "      <td>long hours</td>\n",
       "      <td>TIME</td>\n",
       "    </tr>\n",
       "    <tr>\n",
       "      <th>2236</th>\n",
       "      <td>Daily</td>\n",
       "      <td>DATE</td>\n",
       "    </tr>\n",
       "  </tbody>\n",
       "</table>\n",
       "<p>2237 rows × 2 columns</p>\n",
       "</div>"
      ],
      "text/plain": [
       "                 entity entity_label\n",
       "0           Health Care          ORG\n",
       "1                   401     CARDINAL\n",
       "2               30 mile     QUANTITY\n",
       "3                  Silo          ORG\n",
       "4              the year         DATE\n",
       "...                 ...          ...\n",
       "2232          Furloughs          ORG\n",
       "2233               2016         DATE\n",
       "2234  Industrial Safety          ORG\n",
       "2235         long hours         TIME\n",
       "2236              Daily         DATE\n",
       "\n",
       "[2237 rows x 2 columns]"
      ]
     },
     "execution_count": 172,
     "metadata": {},
     "output_type": "execute_result"
    }
   ],
   "source": [
    "cons_entities_clean"
   ]
  },
  {
   "cell_type": "code",
   "execution_count": 173,
   "metadata": {},
   "outputs": [
    {
     "data": {
      "text/html": [
       "<div>\n",
       "<style scoped>\n",
       "    .dataframe tbody tr th:only-of-type {\n",
       "        vertical-align: middle;\n",
       "    }\n",
       "\n",
       "    .dataframe tbody tr th {\n",
       "        vertical-align: top;\n",
       "    }\n",
       "\n",
       "    .dataframe thead th {\n",
       "        text-align: right;\n",
       "    }\n",
       "</style>\n",
       "<table border=\"1\" class=\"dataframe\">\n",
       "  <thead>\n",
       "    <tr style=\"text-align: right;\">\n",
       "      <th></th>\n",
       "      <th>entity_label</th>\n",
       "      <th>count</th>\n",
       "    </tr>\n",
       "  </thead>\n",
       "  <tbody>\n",
       "    <tr>\n",
       "      <th>0</th>\n",
       "      <td>DATE</td>\n",
       "      <td>663</td>\n",
       "    </tr>\n",
       "    <tr>\n",
       "      <th>1</th>\n",
       "      <td>ORG</td>\n",
       "      <td>593</td>\n",
       "    </tr>\n",
       "    <tr>\n",
       "      <th>2</th>\n",
       "      <td>CARDINAL</td>\n",
       "      <td>334</td>\n",
       "    </tr>\n",
       "    <tr>\n",
       "      <th>3</th>\n",
       "      <td>GPE</td>\n",
       "      <td>167</td>\n",
       "    </tr>\n",
       "    <tr>\n",
       "      <th>4</th>\n",
       "      <td>PERSON</td>\n",
       "      <td>109</td>\n",
       "    </tr>\n",
       "    <tr>\n",
       "      <th>5</th>\n",
       "      <td>TIME</td>\n",
       "      <td>98</td>\n",
       "    </tr>\n",
       "    <tr>\n",
       "      <th>6</th>\n",
       "      <td>PERCENT</td>\n",
       "      <td>78</td>\n",
       "    </tr>\n",
       "    <tr>\n",
       "      <th>7</th>\n",
       "      <td>MONEY</td>\n",
       "      <td>64</td>\n",
       "    </tr>\n",
       "    <tr>\n",
       "      <th>8</th>\n",
       "      <td>NORP</td>\n",
       "      <td>48</td>\n",
       "    </tr>\n",
       "    <tr>\n",
       "      <th>9</th>\n",
       "      <td>ORDINAL</td>\n",
       "      <td>25</td>\n",
       "    </tr>\n",
       "    <tr>\n",
       "      <th>10</th>\n",
       "      <td>LOC</td>\n",
       "      <td>14</td>\n",
       "    </tr>\n",
       "    <tr>\n",
       "      <th>11</th>\n",
       "      <td>WORK_OF_ART</td>\n",
       "      <td>14</td>\n",
       "    </tr>\n",
       "    <tr>\n",
       "      <th>12</th>\n",
       "      <td>FAC</td>\n",
       "      <td>12</td>\n",
       "    </tr>\n",
       "    <tr>\n",
       "      <th>13</th>\n",
       "      <td>PRODUCT</td>\n",
       "      <td>9</td>\n",
       "    </tr>\n",
       "    <tr>\n",
       "      <th>14</th>\n",
       "      <td>QUANTITY</td>\n",
       "      <td>7</td>\n",
       "    </tr>\n",
       "  </tbody>\n",
       "</table>\n",
       "</div>"
      ],
      "text/plain": [
       "   entity_label  count\n",
       "0          DATE    663\n",
       "1           ORG    593\n",
       "2      CARDINAL    334\n",
       "3           GPE    167\n",
       "4        PERSON    109\n",
       "5          TIME     98\n",
       "6       PERCENT     78\n",
       "7         MONEY     64\n",
       "8          NORP     48\n",
       "9       ORDINAL     25\n",
       "10          LOC     14\n",
       "11  WORK_OF_ART     14\n",
       "12          FAC     12\n",
       "13      PRODUCT      9\n",
       "14     QUANTITY      7"
      ]
     },
     "execution_count": 173,
     "metadata": {},
     "output_type": "execute_result"
    }
   ],
   "source": [
    "top_con_entlabs = cons_entities_clean.groupby('entity_label').size().sort_values(ascending=False).reset_index(name='count')\n",
    "top_con_entlabs = top_con_entlabs[top_con_entlabs['count'] > 5]\n",
    "top_con_entlabs"
   ]
  },
  {
   "cell_type": "code",
   "execution_count": 174,
   "metadata": {},
   "outputs": [],
   "source": [
    "cons_entity_count = cons_entities_clean.groupby(['entity', 'entity_label']).size().sort_values().reset_index(name='count')"
   ]
  },
  {
   "cell_type": "code",
   "execution_count": 176,
   "metadata": {},
   "outputs": [
    {
     "data": {
      "text/plain": [
       "[Text(0, 0.5, ''), Text(0.5, 0, 'count'), Text(0.5, 1.0, 'NORP')]"
      ]
     },
     "execution_count": 176,
     "metadata": {},
     "output_type": "execute_result"
    },
    {
     "data": {
      "image/png": "[encoded data removed]",
      "text/plain": [
       "<Figure size 1080x1080 with 9 Axes>"
      ]
     },
     "metadata": {
      "needs_background": "light"
     },
     "output_type": "display_data"
    }
   ],
   "source": [
    "fig = plt.figure()\n",
    "plt.rcParams['figure.figsize'] = [15,15]\n",
    "plt.rcParams[\"font.weight\"] = \"regular\"\n",
    "plt.subplots_adjust(wspace=1, hspace=.4)\n",
    "fig.suptitle(\"Top Named Entities for 'Con' Reviews\\nBy Entity Category\", fontsize=20,color=\"black\", \n",
    "             position=(0.5,0.96))\n",
    "\n",
    "ax1 = fig.add_subplot(331)\n",
    "ax1.barh('entity', 'count', data=cons_entity_count.loc[\n",
    "    cons_entity_count['entity_label'] == top_con_entlabs.loc[0, 'entity_label'], \n",
    "                         ['entity', 'entity_label', 'count']][-10:], color = 'indianred')\n",
    "ax1.set(xlabel='count', ylabel='', title = top_con_entlabs.loc[0, 'entity_label'])\n",
    "\n",
    "ax2 = fig.add_subplot(332)\n",
    "ax2.barh('entity', 'count', data=cons_entity_count.loc[\n",
    "    cons_entity_count['entity_label'] == top_con_entlabs.loc[1, 'entity_label'], \n",
    "                         ['entity', 'entity_label', 'count']][-10:], color = 'indianred')\n",
    "ax2.set(xlabel='count', ylabel='', title = top_con_entlabs.loc[1, 'entity_label'])\n",
    "\n",
    "ax3 = fig.add_subplot(333)\n",
    "ax3.barh('entity', 'count', data=cons_entity_count.loc[\n",
    "    cons_entity_count['entity_label'] == top_con_entlabs.loc[2, 'entity_label'], \n",
    "                         ['entity', 'entity_label', 'count']][-10:], color = 'indianred')\n",
    "ax3.set(xlabel='count', ylabel='', title = top_con_entlabs.loc[2, 'entity_label'])\n",
    "\n",
    "ax4 = fig.add_subplot(334)\n",
    "ax4.barh('entity', 'count', data=cons_entity_count.loc[\n",
    "    cons_entity_count['entity_label'] == top_con_entlabs.loc[3, 'entity_label'], \n",
    "                         ['entity', 'entity_label', 'count']][-10:], color = 'indianred')\n",
    "ax4.set(xlabel='count', ylabel='', title = top_con_entlabs.loc[3, 'entity_label'])\n",
    "\n",
    "ax5 = fig.add_subplot(335)\n",
    "ax5.barh('entity', 'count', data=cons_entity_count.loc[\n",
    "    cons_entity_count['entity_label'] == top_con_entlabs.loc[4, 'entity_label'], \n",
    "                         ['entity', 'entity_label', 'count']][-10:], color = 'indianred')\n",
    "ax5.set(xlabel='count', ylabel='', title = top_con_entlabs.loc[4, 'entity_label'])\n",
    "\n",
    "ax6 = fig.add_subplot(336)\n",
    "ax6.barh('entity', 'count', data=cons_entity_count.loc[\n",
    "    cons_entity_count['entity_label'] == top_con_entlabs.loc[5, 'entity_label'], \n",
    "                         ['entity', 'entity_label', 'count']][-10:], color = 'indianred')\n",
    "ax6.set(xlabel='count', ylabel='', title = top_con_entlabs.loc[5, 'entity_label'])\n",
    "\n",
    "ax7 = fig.add_subplot(337)\n",
    "ax7.barh('entity', 'count', data=cons_entity_count.loc[\n",
    "    cons_entity_count['entity_label'] == top_con_entlabs.loc[6, 'entity_label'], \n",
    "                         ['entity', 'entity_label', 'count']][-10:], color = 'indianred')\n",
    "ax7.set(xlabel='count', ylabel='', title = top_con_entlabs.loc[6, 'entity_label'])\n",
    "\n",
    "ax8 = fig.add_subplot(338)\n",
    "ax8.barh('entity', 'count', data=cons_entity_count.loc[\n",
    "    cons_entity_count['entity_label'] == top_con_entlabs.loc[7, 'entity_label'], \n",
    "                         ['entity', 'entity_label', 'count']][-10:], color = 'indianred')\n",
    "ax8.set(xlabel='count', ylabel='', title = top_con_entlabs.loc[7, 'entity_label'])\n",
    "\n",
    "ax9 = fig.add_subplot(339)\n",
    "ax9.barh('entity', 'count', data=cons_entity_count.loc[\n",
    "    cons_entity_count['entity_label'] == top_con_entlabs.loc[8, 'entity_label'], \n",
    "                         ['entity', 'entity_label', 'count']][-10:], color = 'indianred')\n",
    "ax9.set(xlabel='count', ylabel='', title = top_con_entlabs.loc[8, 'entity_label'])"
   ]
  },
  {
   "cell_type": "code",
   "execution_count": 177,
   "metadata": {},
   "outputs": [
    {
     "data": {
      "text/html": [
       "<div>\n",
       "<style scoped>\n",
       "    .dataframe tbody tr th:only-of-type {\n",
       "        vertical-align: middle;\n",
       "    }\n",
       "\n",
       "    .dataframe tbody tr th {\n",
       "        vertical-align: top;\n",
       "    }\n",
       "\n",
       "    .dataframe thead th {\n",
       "        text-align: right;\n",
       "    }\n",
       "</style>\n",
       "<table border=\"1\" class=\"dataframe\">\n",
       "  <thead>\n",
       "    <tr style=\"text-align: right;\">\n",
       "      <th></th>\n",
       "      <th>entity_label</th>\n",
       "      <th>count</th>\n",
       "    </tr>\n",
       "  </thead>\n",
       "  <tbody>\n",
       "    <tr>\n",
       "      <th>0</th>\n",
       "      <td>ORG</td>\n",
       "      <td>426</td>\n",
       "    </tr>\n",
       "    <tr>\n",
       "      <th>1</th>\n",
       "      <td>DATE</td>\n",
       "      <td>168</td>\n",
       "    </tr>\n",
       "    <tr>\n",
       "      <th>2</th>\n",
       "      <td>CARDINAL</td>\n",
       "      <td>135</td>\n",
       "    </tr>\n",
       "    <tr>\n",
       "      <th>3</th>\n",
       "      <td>TIME</td>\n",
       "      <td>57</td>\n",
       "    </tr>\n",
       "    <tr>\n",
       "      <th>4</th>\n",
       "      <td>GPE</td>\n",
       "      <td>46</td>\n",
       "    </tr>\n",
       "    <tr>\n",
       "      <th>5</th>\n",
       "      <td>PERSON</td>\n",
       "      <td>43</td>\n",
       "    </tr>\n",
       "    <tr>\n",
       "      <th>6</th>\n",
       "      <td>PERCENT</td>\n",
       "      <td>13</td>\n",
       "    </tr>\n",
       "  </tbody>\n",
       "</table>\n",
       "</div>"
      ],
      "text/plain": [
       "  entity_label  count\n",
       "0          ORG    426\n",
       "1         DATE    168\n",
       "2     CARDINAL    135\n",
       "3         TIME     57\n",
       "4          GPE     46\n",
       "5       PERSON     43\n",
       "6      PERCENT     13"
      ]
     },
     "execution_count": 177,
     "metadata": {},
     "output_type": "execute_result"
    }
   ],
   "source": [
    "top_pro_entlabs = pros_entities_clean.groupby('entity_label').size().sort_values(ascending=False).reset_index(name='count')\n",
    "top_pro_entlabs = top_pro_entlabs[top_pro_entlabs['count'] > 10]\n",
    "top_pro_entlabs"
   ]
  },
  {
   "cell_type": "code",
   "execution_count": 178,
   "metadata": {},
   "outputs": [],
   "source": [
    "pro_entity_count = pros_entities_clean.groupby(['entity', 'entity_label']).size().sort_values().reset_index(name='count')"
   ]
  },
  {
   "cell_type": "code",
   "execution_count": 179,
   "metadata": {},
   "outputs": [
    {
     "data": {
      "text/html": [
       "<div>\n",
       "<style scoped>\n",
       "    .dataframe tbody tr th:only-of-type {\n",
       "        vertical-align: middle;\n",
       "    }\n",
       "\n",
       "    .dataframe tbody tr th {\n",
       "        vertical-align: top;\n",
       "    }\n",
       "\n",
       "    .dataframe thead th {\n",
       "        text-align: right;\n",
       "    }\n",
       "</style>\n",
       "<table border=\"1\" class=\"dataframe\">\n",
       "  <thead>\n",
       "    <tr style=\"text-align: right;\">\n",
       "      <th></th>\n",
       "      <th>entity</th>\n",
       "      <th>entity_label</th>\n",
       "      <th>count</th>\n",
       "    </tr>\n",
       "  </thead>\n",
       "  <tbody>\n",
       "    <tr>\n",
       "      <th>362</th>\n",
       "      <td>Unlimited Vacation</td>\n",
       "      <td>ORG</td>\n",
       "      <td>2</td>\n",
       "    </tr>\n",
       "    <tr>\n",
       "      <th>363</th>\n",
       "      <td>Unlimited Vacation, Advancement Opportunities</td>\n",
       "      <td>ORG</td>\n",
       "      <td>2</td>\n",
       "    </tr>\n",
       "    <tr>\n",
       "      <th>367</th>\n",
       "      <td>Vision and Dental</td>\n",
       "      <td>ORG</td>\n",
       "      <td>2</td>\n",
       "    </tr>\n",
       "    <tr>\n",
       "      <th>369</th>\n",
       "      <td>Field Service Techs</td>\n",
       "      <td>ORG</td>\n",
       "      <td>2</td>\n",
       "    </tr>\n",
       "    <tr>\n",
       "      <th>373</th>\n",
       "      <td>Im</td>\n",
       "      <td>ORG</td>\n",
       "      <td>2</td>\n",
       "    </tr>\n",
       "    <tr>\n",
       "      <th>374</th>\n",
       "      <td>Fantastic Management</td>\n",
       "      <td>ORG</td>\n",
       "      <td>2</td>\n",
       "    </tr>\n",
       "    <tr>\n",
       "      <th>376</th>\n",
       "      <td>Vacation</td>\n",
       "      <td>ORG</td>\n",
       "      <td>3</td>\n",
       "    </tr>\n",
       "    <tr>\n",
       "      <th>378</th>\n",
       "      <td>Great Company</td>\n",
       "      <td>ORG</td>\n",
       "      <td>3</td>\n",
       "    </tr>\n",
       "    <tr>\n",
       "      <th>382</th>\n",
       "      <td>Great</td>\n",
       "      <td>ORG</td>\n",
       "      <td>3</td>\n",
       "    </tr>\n",
       "    <tr>\n",
       "      <th>383</th>\n",
       "      <td>Coworkers</td>\n",
       "      <td>ORG</td>\n",
       "      <td>3</td>\n",
       "    </tr>\n",
       "    <tr>\n",
       "      <th>385</th>\n",
       "      <td>HOS</td>\n",
       "      <td>ORG</td>\n",
       "      <td>3</td>\n",
       "    </tr>\n",
       "    <tr>\n",
       "      <th>389</th>\n",
       "      <td>Pro</td>\n",
       "      <td>ORG</td>\n",
       "      <td>3</td>\n",
       "    </tr>\n",
       "    <tr>\n",
       "      <th>393</th>\n",
       "      <td>Great Pay</td>\n",
       "      <td>ORG</td>\n",
       "      <td>3</td>\n",
       "    </tr>\n",
       "    <tr>\n",
       "      <th>396</th>\n",
       "      <td>K</td>\n",
       "      <td>ORG</td>\n",
       "      <td>4</td>\n",
       "    </tr>\n",
       "    <tr>\n",
       "      <th>400</th>\n",
       "      <td>Aerospace</td>\n",
       "      <td>ORG</td>\n",
       "      <td>5</td>\n",
       "    </tr>\n",
       "    <tr>\n",
       "      <th>402</th>\n",
       "      <td>Honeywell Aerospace</td>\n",
       "      <td>ORG</td>\n",
       "      <td>5</td>\n",
       "    </tr>\n",
       "    <tr>\n",
       "      <th>404</th>\n",
       "      <td>Honeywell Process Solutions</td>\n",
       "      <td>ORG</td>\n",
       "      <td>6</td>\n",
       "    </tr>\n",
       "    <tr>\n",
       "      <th>406</th>\n",
       "      <td>Flex</td>\n",
       "      <td>ORG</td>\n",
       "      <td>6</td>\n",
       "    </tr>\n",
       "    <tr>\n",
       "      <th>414</th>\n",
       "      <td>NAME</td>\n",
       "      <td>ORG</td>\n",
       "      <td>31</td>\n",
       "    </tr>\n",
       "    <tr>\n",
       "      <th>416</th>\n",
       "      <td>Honeywell</td>\n",
       "      <td>ORG</td>\n",
       "      <td>137</td>\n",
       "    </tr>\n",
       "  </tbody>\n",
       "</table>\n",
       "</div>"
      ],
      "text/plain": [
       "                                            entity entity_label  count\n",
       "362                             Unlimited Vacation          ORG      2\n",
       "363  Unlimited Vacation, Advancement Opportunities          ORG      2\n",
       "367                              Vision and Dental          ORG      2\n",
       "369                            Field Service Techs          ORG      2\n",
       "373                                            Im          ORG      2\n",
       "374                           Fantastic Management          ORG      2\n",
       "376                                       Vacation          ORG      3\n",
       "378                                  Great Company          ORG      3\n",
       "382                                          Great          ORG      3\n",
       "383                                      Coworkers          ORG      3\n",
       "385                                            HOS          ORG      3\n",
       "389                                            Pro          ORG      3\n",
       "393                                      Great Pay          ORG      3\n",
       "396                                              K          ORG      4\n",
       "400                                      Aerospace          ORG      5\n",
       "402                            Honeywell Aerospace          ORG      5\n",
       "404                    Honeywell Process Solutions          ORG      6\n",
       "406                                           Flex          ORG      6\n",
       "414                                           NAME          ORG     31\n",
       "416                                      Honeywell          ORG    137"
      ]
     },
     "execution_count": 179,
     "metadata": {},
     "output_type": "execute_result"
    }
   ],
   "source": [
    "pro_entity_count.loc[\n",
    "    pro_entity_count['entity_label'] == top_pro_entlabs.loc[0, 'entity_label'], \n",
    "                         ['entity', 'entity_label', 'count']][-20:]"
   ]
  },
  {
   "cell_type": "code",
   "execution_count": 181,
   "metadata": {},
   "outputs": [
    {
     "data": {
      "text/plain": [
       "[Text(0, 0.5, ''), Text(0.5, 0, 'count'), Text(0.5, 1.0, 'CARDINAL')]"
      ]
     },
     "execution_count": 181,
     "metadata": {},
     "output_type": "execute_result"
    },
    {
     "data": {
      "image/png": "[encoded data removed]",
      "text/plain": [
       "<Figure size 1080x360 with 3 Axes>"
      ]
     },
     "metadata": {
      "needs_background": "light"
     },
     "output_type": "display_data"
    }
   ],
   "source": [
    "fig = plt.figure()\n",
    "plt.rcParams['figure.figsize'] = [15,5]\n",
    "plt.rcParams[\"font.weight\"] = \"regular\"\n",
    "plt.subplots_adjust(wspace=1, hspace=.5)\n",
    "fig.suptitle(\"Top Named Entities for 'Pro' Reviews\\nBy Entity Category\", fontsize=16,color=\"black\", \n",
    "             position=(0.5,1.1))\n",
    "\n",
    "ax1 = fig.add_subplot(131)\n",
    "ax1.barh('entity', 'count', data=pro_entity_count.loc[\n",
    "    pro_entity_count['entity_label'] == top_pro_entlabs.loc[0, 'entity_label'], \n",
    "                         ['entity', 'entity_label', 'count']][-10:], color = 'cornflowerblue')\n",
    "ax1.set(xlabel='count', ylabel='', title = top_pro_entlabs.loc[0, 'entity_label'])\n",
    "\n",
    "ax2 = fig.add_subplot(132)\n",
    "ax2.barh('entity', 'count', data=pro_entity_count.loc[\n",
    "    pro_entity_count['entity_label'] == top_pro_entlabs.loc[1, 'entity_label'], \n",
    "                         ['entity', 'entity_label', 'count']][-10:], color = 'cornflowerblue')\n",
    "ax2.set(xlabel='count', ylabel='', title = top_pro_entlabs.loc[1, 'entity_label'])\n",
    "\n",
    "ax3 = fig.add_subplot(133)\n",
    "ax3.barh('entity', 'count', data=pro_entity_count.loc[\n",
    "    pro_entity_count['entity_label'] == top_pro_entlabs.loc[2, 'entity_label'], \n",
    "                         ['entity', 'entity_label', 'count']][-10:], color = 'cornflowerblue')\n",
    "ax3.set(xlabel='count', ylabel='', title = top_pro_entlabs.loc[2, 'entity_label'])"
   ]
  },
  {
   "cell_type": "code",
   "execution_count": null,
   "metadata": {},
   "outputs": [],
   "source": []
  },
  {
   "cell_type": "markdown",
   "metadata": {},
   "source": [
    "# Next Steps\n",
    "* tie the named entities back to the indivual reviews that contain them for document retrieval\n",
    "* use word embeddings (word2vec?) to calculate cosine similarity between retrieved doc and all other docs and surface all docs that are similar\n",
    "* compare utility of insights to LDA, NMF, and/or clustering by embeddings"
   ]
  },
  {
   "cell_type": "code",
   "execution_count": null,
   "metadata": {},
   "outputs": [],
   "source": []
  }
 ],
 "metadata": {
  "kernelspec": {
   "display_name": "Python 3",
   "language": "python",
   "name": "python3"
  },
  "language_info": {
   "codemirror_mode": {
    "name": "ipython",
    "version": 3
   },
   "file_extension": ".py",
   "mimetype": "text/x-python",
   "name": "python",
   "nbconvert_exporter": "python",
   "pygments_lexer": "ipython3",
   "version": "3.7.6"
  }
 },
 "nbformat": 4,
 "nbformat_minor": 2
}
